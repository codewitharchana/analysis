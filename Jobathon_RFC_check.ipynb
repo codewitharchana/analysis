{
  "cells": [
    {
      "cell_type": "markdown",
      "metadata": {
        "id": "view-in-github",
        "colab_type": "text"
      },
      "source": [
        "<a href=\"https://colab.research.google.com/github/codewitharchana/analysis/blob/main/Jobathon_RFC_check.ipynb\" target=\"_parent\"><img src=\"https://colab.research.google.com/assets/colab-badge.svg\" alt=\"Open In Colab\"/></a>"
      ]
    },
    {
      "cell_type": "code",
      "execution_count": null,
      "metadata": {
        "id": "940a81b1"
      },
      "outputs": [],
      "source": [
        "import sklearn.metrics \n",
        "import pandas as pd\n",
        "import numpy as np\n",
        "from sklearn.feature_selection import SelectFromModel               # To perform Feature Selection over model\n",
        "from yellowbrick.model_selection import FeatureImportances        # To retrieve Feature Importances over model\n",
        "from sklearn.metrics import roc_auc_score\n",
        "from sklearn.ensemble import RandomForestClassifier                 # To perform modeling using RandomForestClassifier\n",
        "from imblearn.over_sampling import SMOTE\n",
        "import matplotlib.pyplot as plt                                     # Importing pyplot interface using matplotlib                                              \n",
        "import seaborn as sns                                               # Importin seaborm library for interactive visualization\n",
        "%matplotlib inline\n",
        "\n",
        "# For Random seed values\n",
        "from random import randint\n",
        "\n",
        "# For Scientifc Python\n",
        "from scipy import stats\n",
        "\n",
        "# For datetime\n",
        "from datetime import datetime as dt\n",
        "\n",
        "# For Data Visualization\n",
        "import matplotlib.pyplot as plt\n",
        "%matplotlib inline\n",
        "import seaborn as sns\n",
        "\n",
        "# For Preprocessing\n",
        "from sklearn.preprocessing import StandardScaler\n",
        "\n",
        "# For Feature Selection\n",
        "from sklearn.feature_selection import SelectFromModel\n",
        "\n",
        "# For Feature Importances\n",
        "from yellowbrick.model_selection import FeatureImportances\n",
        "\n",
        "# For metrics evaluation\n",
        "from sklearn.metrics import precision_recall_curve, classification_report, plot_confusion_matrix\n",
        "\n",
        "# For Data Modeling\n",
        "from sklearn.model_selection import train_test_split, cross_val_score, GridSearchCV\n",
        "from sklearn.linear_model import LogisticRegression\n",
        "from sklearn.svm import SVC\n",
        "from sklearn.tree import DecisionTreeClassifier\n",
        "from sklearn.ensemble import RandomForestClassifier\n",
        "\n",
        "from numpy import loadtxt\n",
        "from xgboost import XGBClassifier\n",
        "\n",
        "# To Disable Warnings\n",
        "import warnings\n",
        "warnings.filterwarnings(action = \"ignore\")"
      ],
      "id": "940a81b1"
    },
    {
      "cell_type": "code",
      "source": [
        "!pip install xgboost"
      ],
      "metadata": {
        "colab": {
          "base_uri": "https://localhost:8080/"
        },
        "id": "uDNsOgEyOP6c",
        "outputId": "34048e6d-07db-46df-a891-16ac60491cd3"
      },
      "id": "uDNsOgEyOP6c",
      "execution_count": null,
      "outputs": [
        {
          "output_type": "stream",
          "name": "stdout",
          "text": [
            "Looking in indexes: https://pypi.org/simple, https://us-python.pkg.dev/colab-wheels/public/simple/\n",
            "Requirement already satisfied: xgboost in /usr/local/lib/python3.7/dist-packages (0.90)\n",
            "Requirement already satisfied: scipy in /usr/local/lib/python3.7/dist-packages (from xgboost) (1.4.1)\n",
            "Requirement already satisfied: numpy in /usr/local/lib/python3.7/dist-packages (from xgboost) (1.21.6)\n"
          ]
        }
      ]
    },
    {
      "cell_type": "code",
      "source": [
        "!pip install --upgrade xgboost"
      ],
      "metadata": {
        "colab": {
          "base_uri": "https://localhost:8080/"
        },
        "id": "HSmh35j8Occr",
        "outputId": "c13338f9-d969-4b39-89cc-090a972bb324"
      },
      "id": "HSmh35j8Occr",
      "execution_count": null,
      "outputs": [
        {
          "output_type": "stream",
          "name": "stdout",
          "text": [
            "Looking in indexes: https://pypi.org/simple, https://us-python.pkg.dev/colab-wheels/public/simple/\n",
            "Requirement already satisfied: xgboost in /usr/local/lib/python3.7/dist-packages (0.90)\n",
            "Collecting xgboost\n",
            "  Downloading xgboost-1.6.1-py3-none-manylinux2014_x86_64.whl (192.9 MB)\n",
            "\u001b[K     |████████████████████████████████| 192.9 MB 80 kB/s \n",
            "\u001b[?25hRequirement already satisfied: scipy in /usr/local/lib/python3.7/dist-packages (from xgboost) (1.4.1)\n",
            "Requirement already satisfied: numpy in /usr/local/lib/python3.7/dist-packages (from xgboost) (1.21.6)\n",
            "Installing collected packages: xgboost\n",
            "  Attempting uninstall: xgboost\n",
            "    Found existing installation: xgboost 0.90\n",
            "    Uninstalling xgboost-0.90:\n",
            "      Successfully uninstalled xgboost-0.90\n",
            "Successfully installed xgboost-1.6.1\n"
          ]
        }
      ]
    },
    {
      "cell_type": "markdown",
      "metadata": {
        "id": "6619c29a"
      },
      "source": [
        "\n",
        "### **Data Loading**\n",
        "\n",
        "- In this section we will get **load the data from csv files**."
      ],
      "id": "6619c29a"
    },
    {
      "cell_type": "code",
      "execution_count": null,
      "metadata": {
        "colab": {
          "base_uri": "https://localhost:8080/",
          "height": 288
        },
        "id": "2d9222fb",
        "outputId": "522726c6-2371-42eb-a90c-ae8699b2af67"
      },
      "outputs": [
        {
          "output_type": "stream",
          "name": "stdout",
          "text": [
            "Data Shape: (39161, 19)\n"
          ]
        },
        {
          "output_type": "execute_result",
          "data": {
            "text/plain": [
              "   id  created_at  campaign_var_1  campaign_var_2  products_purchased  \\\n",
              "0   1  2021-01-01               1               2                 2.0   \n",
              "1   2  2021-01-01               2               1                 2.0   \n",
              "2   3  2021-01-01               9               3                 3.0   \n",
              "3   4  2021-01-01               6               7                 2.0   \n",
              "4   5  2021-01-01               4               6                 NaN   \n",
              "\n",
              "  signup_date  user_activity_var_1  user_activity_var_2  user_activity_var_3  \\\n",
              "0  2020-09-24                    0                    0                    0   \n",
              "1  2020-09-19                    1                    0                    1   \n",
              "2  2021-08-11                    1                    0                    0   \n",
              "3  2017-10-04                    0                    0                    0   \n",
              "4  2020-06-08                    0                    0                    0   \n",
              "\n",
              "   user_activity_var_4  user_activity_var_5  user_activity_var_6  \\\n",
              "0                    0                    0                    0   \n",
              "1                    0                    0                    0   \n",
              "2                    0                    0                    0   \n",
              "3                    0                    0                    0   \n",
              "4                    0                    0                    0   \n",
              "\n",
              "   user_activity_var_7  user_activity_var_8  user_activity_var_9  \\\n",
              "0                    1                    1                    0   \n",
              "1                    1                    0                    0   \n",
              "2                    0                    0                    0   \n",
              "3                    0                    0                    0   \n",
              "4                    1                    0                    0   \n",
              "\n",
              "   user_activity_var_10  user_activity_var_11  user_activity_var_12  buy  \n",
              "0                     0                     0                     0    0  \n",
              "1                     0                     0                     0    0  \n",
              "2                     0                     0                     0    0  \n",
              "3                     0                     0                     0    0  \n",
              "4                     0                     1                     0    0  "
            ],
            "text/html": [
              "\n",
              "  <div id=\"df-53c35253-82c6-47d2-b41a-6d57d4eda7c1\">\n",
              "    <div class=\"colab-df-container\">\n",
              "      <div>\n",
              "<style scoped>\n",
              "    .dataframe tbody tr th:only-of-type {\n",
              "        vertical-align: middle;\n",
              "    }\n",
              "\n",
              "    .dataframe tbody tr th {\n",
              "        vertical-align: top;\n",
              "    }\n",
              "\n",
              "    .dataframe thead th {\n",
              "        text-align: right;\n",
              "    }\n",
              "</style>\n",
              "<table border=\"1\" class=\"dataframe\">\n",
              "  <thead>\n",
              "    <tr style=\"text-align: right;\">\n",
              "      <th></th>\n",
              "      <th>id</th>\n",
              "      <th>created_at</th>\n",
              "      <th>campaign_var_1</th>\n",
              "      <th>campaign_var_2</th>\n",
              "      <th>products_purchased</th>\n",
              "      <th>signup_date</th>\n",
              "      <th>user_activity_var_1</th>\n",
              "      <th>user_activity_var_2</th>\n",
              "      <th>user_activity_var_3</th>\n",
              "      <th>user_activity_var_4</th>\n",
              "      <th>user_activity_var_5</th>\n",
              "      <th>user_activity_var_6</th>\n",
              "      <th>user_activity_var_7</th>\n",
              "      <th>user_activity_var_8</th>\n",
              "      <th>user_activity_var_9</th>\n",
              "      <th>user_activity_var_10</th>\n",
              "      <th>user_activity_var_11</th>\n",
              "      <th>user_activity_var_12</th>\n",
              "      <th>buy</th>\n",
              "    </tr>\n",
              "  </thead>\n",
              "  <tbody>\n",
              "    <tr>\n",
              "      <th>0</th>\n",
              "      <td>1</td>\n",
              "      <td>2021-01-01</td>\n",
              "      <td>1</td>\n",
              "      <td>2</td>\n",
              "      <td>2.0</td>\n",
              "      <td>2020-09-24</td>\n",
              "      <td>0</td>\n",
              "      <td>0</td>\n",
              "      <td>0</td>\n",
              "      <td>0</td>\n",
              "      <td>0</td>\n",
              "      <td>0</td>\n",
              "      <td>1</td>\n",
              "      <td>1</td>\n",
              "      <td>0</td>\n",
              "      <td>0</td>\n",
              "      <td>0</td>\n",
              "      <td>0</td>\n",
              "      <td>0</td>\n",
              "    </tr>\n",
              "    <tr>\n",
              "      <th>1</th>\n",
              "      <td>2</td>\n",
              "      <td>2021-01-01</td>\n",
              "      <td>2</td>\n",
              "      <td>1</td>\n",
              "      <td>2.0</td>\n",
              "      <td>2020-09-19</td>\n",
              "      <td>1</td>\n",
              "      <td>0</td>\n",
              "      <td>1</td>\n",
              "      <td>0</td>\n",
              "      <td>0</td>\n",
              "      <td>0</td>\n",
              "      <td>1</td>\n",
              "      <td>0</td>\n",
              "      <td>0</td>\n",
              "      <td>0</td>\n",
              "      <td>0</td>\n",
              "      <td>0</td>\n",
              "      <td>0</td>\n",
              "    </tr>\n",
              "    <tr>\n",
              "      <th>2</th>\n",
              "      <td>3</td>\n",
              "      <td>2021-01-01</td>\n",
              "      <td>9</td>\n",
              "      <td>3</td>\n",
              "      <td>3.0</td>\n",
              "      <td>2021-08-11</td>\n",
              "      <td>1</td>\n",
              "      <td>0</td>\n",
              "      <td>0</td>\n",
              "      <td>0</td>\n",
              "      <td>0</td>\n",
              "      <td>0</td>\n",
              "      <td>0</td>\n",
              "      <td>0</td>\n",
              "      <td>0</td>\n",
              "      <td>0</td>\n",
              "      <td>0</td>\n",
              "      <td>0</td>\n",
              "      <td>0</td>\n",
              "    </tr>\n",
              "    <tr>\n",
              "      <th>3</th>\n",
              "      <td>4</td>\n",
              "      <td>2021-01-01</td>\n",
              "      <td>6</td>\n",
              "      <td>7</td>\n",
              "      <td>2.0</td>\n",
              "      <td>2017-10-04</td>\n",
              "      <td>0</td>\n",
              "      <td>0</td>\n",
              "      <td>0</td>\n",
              "      <td>0</td>\n",
              "      <td>0</td>\n",
              "      <td>0</td>\n",
              "      <td>0</td>\n",
              "      <td>0</td>\n",
              "      <td>0</td>\n",
              "      <td>0</td>\n",
              "      <td>0</td>\n",
              "      <td>0</td>\n",
              "      <td>0</td>\n",
              "    </tr>\n",
              "    <tr>\n",
              "      <th>4</th>\n",
              "      <td>5</td>\n",
              "      <td>2021-01-01</td>\n",
              "      <td>4</td>\n",
              "      <td>6</td>\n",
              "      <td>NaN</td>\n",
              "      <td>2020-06-08</td>\n",
              "      <td>0</td>\n",
              "      <td>0</td>\n",
              "      <td>0</td>\n",
              "      <td>0</td>\n",
              "      <td>0</td>\n",
              "      <td>0</td>\n",
              "      <td>1</td>\n",
              "      <td>0</td>\n",
              "      <td>0</td>\n",
              "      <td>0</td>\n",
              "      <td>1</td>\n",
              "      <td>0</td>\n",
              "      <td>0</td>\n",
              "    </tr>\n",
              "  </tbody>\n",
              "</table>\n",
              "</div>\n",
              "      <button class=\"colab-df-convert\" onclick=\"convertToInteractive('df-53c35253-82c6-47d2-b41a-6d57d4eda7c1')\"\n",
              "              title=\"Convert this dataframe to an interactive table.\"\n",
              "              style=\"display:none;\">\n",
              "        \n",
              "  <svg xmlns=\"http://www.w3.org/2000/svg\" height=\"24px\"viewBox=\"0 0 24 24\"\n",
              "       width=\"24px\">\n",
              "    <path d=\"M0 0h24v24H0V0z\" fill=\"none\"/>\n",
              "    <path d=\"M18.56 5.44l.94 2.06.94-2.06 2.06-.94-2.06-.94-.94-2.06-.94 2.06-2.06.94zm-11 1L8.5 8.5l.94-2.06 2.06-.94-2.06-.94L8.5 2.5l-.94 2.06-2.06.94zm10 10l.94 2.06.94-2.06 2.06-.94-2.06-.94-.94-2.06-.94 2.06-2.06.94z\"/><path d=\"M17.41 7.96l-1.37-1.37c-.4-.4-.92-.59-1.43-.59-.52 0-1.04.2-1.43.59L10.3 9.45l-7.72 7.72c-.78.78-.78 2.05 0 2.83L4 21.41c.39.39.9.59 1.41.59.51 0 1.02-.2 1.41-.59l7.78-7.78 2.81-2.81c.8-.78.8-2.07 0-2.86zM5.41 20L4 18.59l7.72-7.72 1.47 1.35L5.41 20z\"/>\n",
              "  </svg>\n",
              "      </button>\n",
              "      \n",
              "  <style>\n",
              "    .colab-df-container {\n",
              "      display:flex;\n",
              "      flex-wrap:wrap;\n",
              "      gap: 12px;\n",
              "    }\n",
              "\n",
              "    .colab-df-convert {\n",
              "      background-color: #E8F0FE;\n",
              "      border: none;\n",
              "      border-radius: 50%;\n",
              "      cursor: pointer;\n",
              "      display: none;\n",
              "      fill: #1967D2;\n",
              "      height: 32px;\n",
              "      padding: 0 0 0 0;\n",
              "      width: 32px;\n",
              "    }\n",
              "\n",
              "    .colab-df-convert:hover {\n",
              "      background-color: #E2EBFA;\n",
              "      box-shadow: 0px 1px 2px rgba(60, 64, 67, 0.3), 0px 1px 3px 1px rgba(60, 64, 67, 0.15);\n",
              "      fill: #174EA6;\n",
              "    }\n",
              "\n",
              "    [theme=dark] .colab-df-convert {\n",
              "      background-color: #3B4455;\n",
              "      fill: #D2E3FC;\n",
              "    }\n",
              "\n",
              "    [theme=dark] .colab-df-convert:hover {\n",
              "      background-color: #434B5C;\n",
              "      box-shadow: 0px 1px 3px 1px rgba(0, 0, 0, 0.15);\n",
              "      filter: drop-shadow(0px 1px 2px rgba(0, 0, 0, 0.3));\n",
              "      fill: #FFFFFF;\n",
              "    }\n",
              "  </style>\n",
              "\n",
              "      <script>\n",
              "        const buttonEl =\n",
              "          document.querySelector('#df-53c35253-82c6-47d2-b41a-6d57d4eda7c1 button.colab-df-convert');\n",
              "        buttonEl.style.display =\n",
              "          google.colab.kernel.accessAllowed ? 'block' : 'none';\n",
              "\n",
              "        async function convertToInteractive(key) {\n",
              "          const element = document.querySelector('#df-53c35253-82c6-47d2-b41a-6d57d4eda7c1');\n",
              "          const dataTable =\n",
              "            await google.colab.kernel.invokeFunction('convertToInteractive',\n",
              "                                                     [key], {});\n",
              "          if (!dataTable) return;\n",
              "\n",
              "          const docLinkHtml = 'Like what you see? Visit the ' +\n",
              "            '<a target=\"_blank\" href=https://colab.research.google.com/notebooks/data_table.ipynb>data table notebook</a>'\n",
              "            + ' to learn more about interactive tables.';\n",
              "          element.innerHTML = '';\n",
              "          dataTable['output_type'] = 'display_data';\n",
              "          await google.colab.output.renderOutput(dataTable, element);\n",
              "          const docLink = document.createElement('div');\n",
              "          docLink.innerHTML = docLinkHtml;\n",
              "          element.appendChild(docLink);\n",
              "        }\n",
              "      </script>\n",
              "    </div>\n",
              "  </div>\n",
              "  "
            ]
          },
          "metadata": {},
          "execution_count": 2
        }
      ],
      "source": [
        "#Reading TRAIN DATA\n",
        "train_data = pd.read_csv('train_jobathon.csv')\n",
        "print('Data Shape:', train_data.shape)\n",
        "train_data.head()"
      ],
      "id": "2d9222fb"
    },
    {
      "cell_type": "code",
      "execution_count": null,
      "metadata": {
        "id": "O6oPOscYe9zu"
      },
      "outputs": [],
      "source": [
        ""
      ],
      "id": "O6oPOscYe9zu"
    },
    {
      "cell_type": "code",
      "execution_count": null,
      "metadata": {
        "colab": {
          "base_uri": "https://localhost:8080/",
          "height": 288
        },
        "id": "f493f9c6",
        "outputId": "da520937-7017-4251-c83e-66ca0c9fc8ea"
      },
      "outputs": [
        {
          "output_type": "stream",
          "name": "stdout",
          "text": [
            "Data Shape: (13184, 18)\n"
          ]
        },
        {
          "output_type": "execute_result",
          "data": {
            "text/plain": [
              "      id  created_at  campaign_var_1  campaign_var_2  products_purchased  \\\n",
              "0  39162  2022-01-01               2               2                 NaN   \n",
              "1  39163  2022-01-01               4               7                 3.0   \n",
              "2  39164  2022-01-01               8               7                 NaN   \n",
              "3  39165  2022-01-01               9               8                 2.0   \n",
              "4  39166  2022-01-01               4               5                 2.0   \n",
              "\n",
              "  signup_date  user_activity_var_1  user_activity_var_2  user_activity_var_3  \\\n",
              "0  2021-08-17                    1                    1                    0   \n",
              "1  2020-05-21                    1                    0                    0   \n",
              "2         NaN                    0                    0                    0   \n",
              "3  2020-06-22                    0                    0                    0   \n",
              "4  2021-03-10                    1                    0                    0   \n",
              "\n",
              "   user_activity_var_4  user_activity_var_5  user_activity_var_6  \\\n",
              "0                    0                    0                    1   \n",
              "1                    0                    0                    0   \n",
              "2                    0                    1                    1   \n",
              "3                    0                    1                    1   \n",
              "4                    0                    0                    0   \n",
              "\n",
              "   user_activity_var_7  user_activity_var_8  user_activity_var_9  \\\n",
              "0                    0                    0                    0   \n",
              "1                    0                    1                    0   \n",
              "2                    0                    0                    0   \n",
              "3                    1                    0                    0   \n",
              "4                    0                    0                    0   \n",
              "\n",
              "   user_activity_var_10  user_activity_var_11  user_activity_var_12  \n",
              "0                     0                     1                     0  \n",
              "1                     0                     0                     0  \n",
              "2                     0                     0                     0  \n",
              "3                     0                     2                     0  \n",
              "4                     0                     0                     0  "
            ],
            "text/html": [
              "\n",
              "  <div id=\"df-7e1ed735-ecf1-4e09-881d-427ad15ef05c\">\n",
              "    <div class=\"colab-df-container\">\n",
              "      <div>\n",
              "<style scoped>\n",
              "    .dataframe tbody tr th:only-of-type {\n",
              "        vertical-align: middle;\n",
              "    }\n",
              "\n",
              "    .dataframe tbody tr th {\n",
              "        vertical-align: top;\n",
              "    }\n",
              "\n",
              "    .dataframe thead th {\n",
              "        text-align: right;\n",
              "    }\n",
              "</style>\n",
              "<table border=\"1\" class=\"dataframe\">\n",
              "  <thead>\n",
              "    <tr style=\"text-align: right;\">\n",
              "      <th></th>\n",
              "      <th>id</th>\n",
              "      <th>created_at</th>\n",
              "      <th>campaign_var_1</th>\n",
              "      <th>campaign_var_2</th>\n",
              "      <th>products_purchased</th>\n",
              "      <th>signup_date</th>\n",
              "      <th>user_activity_var_1</th>\n",
              "      <th>user_activity_var_2</th>\n",
              "      <th>user_activity_var_3</th>\n",
              "      <th>user_activity_var_4</th>\n",
              "      <th>user_activity_var_5</th>\n",
              "      <th>user_activity_var_6</th>\n",
              "      <th>user_activity_var_7</th>\n",
              "      <th>user_activity_var_8</th>\n",
              "      <th>user_activity_var_9</th>\n",
              "      <th>user_activity_var_10</th>\n",
              "      <th>user_activity_var_11</th>\n",
              "      <th>user_activity_var_12</th>\n",
              "    </tr>\n",
              "  </thead>\n",
              "  <tbody>\n",
              "    <tr>\n",
              "      <th>0</th>\n",
              "      <td>39162</td>\n",
              "      <td>2022-01-01</td>\n",
              "      <td>2</td>\n",
              "      <td>2</td>\n",
              "      <td>NaN</td>\n",
              "      <td>2021-08-17</td>\n",
              "      <td>1</td>\n",
              "      <td>1</td>\n",
              "      <td>0</td>\n",
              "      <td>0</td>\n",
              "      <td>0</td>\n",
              "      <td>1</td>\n",
              "      <td>0</td>\n",
              "      <td>0</td>\n",
              "      <td>0</td>\n",
              "      <td>0</td>\n",
              "      <td>1</td>\n",
              "      <td>0</td>\n",
              "    </tr>\n",
              "    <tr>\n",
              "      <th>1</th>\n",
              "      <td>39163</td>\n",
              "      <td>2022-01-01</td>\n",
              "      <td>4</td>\n",
              "      <td>7</td>\n",
              "      <td>3.0</td>\n",
              "      <td>2020-05-21</td>\n",
              "      <td>1</td>\n",
              "      <td>0</td>\n",
              "      <td>0</td>\n",
              "      <td>0</td>\n",
              "      <td>0</td>\n",
              "      <td>0</td>\n",
              "      <td>0</td>\n",
              "      <td>1</td>\n",
              "      <td>0</td>\n",
              "      <td>0</td>\n",
              "      <td>0</td>\n",
              "      <td>0</td>\n",
              "    </tr>\n",
              "    <tr>\n",
              "      <th>2</th>\n",
              "      <td>39164</td>\n",
              "      <td>2022-01-01</td>\n",
              "      <td>8</td>\n",
              "      <td>7</td>\n",
              "      <td>NaN</td>\n",
              "      <td>NaN</td>\n",
              "      <td>0</td>\n",
              "      <td>0</td>\n",
              "      <td>0</td>\n",
              "      <td>0</td>\n",
              "      <td>1</td>\n",
              "      <td>1</td>\n",
              "      <td>0</td>\n",
              "      <td>0</td>\n",
              "      <td>0</td>\n",
              "      <td>0</td>\n",
              "      <td>0</td>\n",
              "      <td>0</td>\n",
              "    </tr>\n",
              "    <tr>\n",
              "      <th>3</th>\n",
              "      <td>39165</td>\n",
              "      <td>2022-01-01</td>\n",
              "      <td>9</td>\n",
              "      <td>8</td>\n",
              "      <td>2.0</td>\n",
              "      <td>2020-06-22</td>\n",
              "      <td>0</td>\n",
              "      <td>0</td>\n",
              "      <td>0</td>\n",
              "      <td>0</td>\n",
              "      <td>1</td>\n",
              "      <td>1</td>\n",
              "      <td>1</td>\n",
              "      <td>0</td>\n",
              "      <td>0</td>\n",
              "      <td>0</td>\n",
              "      <td>2</td>\n",
              "      <td>0</td>\n",
              "    </tr>\n",
              "    <tr>\n",
              "      <th>4</th>\n",
              "      <td>39166</td>\n",
              "      <td>2022-01-01</td>\n",
              "      <td>4</td>\n",
              "      <td>5</td>\n",
              "      <td>2.0</td>\n",
              "      <td>2021-03-10</td>\n",
              "      <td>1</td>\n",
              "      <td>0</td>\n",
              "      <td>0</td>\n",
              "      <td>0</td>\n",
              "      <td>0</td>\n",
              "      <td>0</td>\n",
              "      <td>0</td>\n",
              "      <td>0</td>\n",
              "      <td>0</td>\n",
              "      <td>0</td>\n",
              "      <td>0</td>\n",
              "      <td>0</td>\n",
              "    </tr>\n",
              "  </tbody>\n",
              "</table>\n",
              "</div>\n",
              "      <button class=\"colab-df-convert\" onclick=\"convertToInteractive('df-7e1ed735-ecf1-4e09-881d-427ad15ef05c')\"\n",
              "              title=\"Convert this dataframe to an interactive table.\"\n",
              "              style=\"display:none;\">\n",
              "        \n",
              "  <svg xmlns=\"http://www.w3.org/2000/svg\" height=\"24px\"viewBox=\"0 0 24 24\"\n",
              "       width=\"24px\">\n",
              "    <path d=\"M0 0h24v24H0V0z\" fill=\"none\"/>\n",
              "    <path d=\"M18.56 5.44l.94 2.06.94-2.06 2.06-.94-2.06-.94-.94-2.06-.94 2.06-2.06.94zm-11 1L8.5 8.5l.94-2.06 2.06-.94-2.06-.94L8.5 2.5l-.94 2.06-2.06.94zm10 10l.94 2.06.94-2.06 2.06-.94-2.06-.94-.94-2.06-.94 2.06-2.06.94z\"/><path d=\"M17.41 7.96l-1.37-1.37c-.4-.4-.92-.59-1.43-.59-.52 0-1.04.2-1.43.59L10.3 9.45l-7.72 7.72c-.78.78-.78 2.05 0 2.83L4 21.41c.39.39.9.59 1.41.59.51 0 1.02-.2 1.41-.59l7.78-7.78 2.81-2.81c.8-.78.8-2.07 0-2.86zM5.41 20L4 18.59l7.72-7.72 1.47 1.35L5.41 20z\"/>\n",
              "  </svg>\n",
              "      </button>\n",
              "      \n",
              "  <style>\n",
              "    .colab-df-container {\n",
              "      display:flex;\n",
              "      flex-wrap:wrap;\n",
              "      gap: 12px;\n",
              "    }\n",
              "\n",
              "    .colab-df-convert {\n",
              "      background-color: #E8F0FE;\n",
              "      border: none;\n",
              "      border-radius: 50%;\n",
              "      cursor: pointer;\n",
              "      display: none;\n",
              "      fill: #1967D2;\n",
              "      height: 32px;\n",
              "      padding: 0 0 0 0;\n",
              "      width: 32px;\n",
              "    }\n",
              "\n",
              "    .colab-df-convert:hover {\n",
              "      background-color: #E2EBFA;\n",
              "      box-shadow: 0px 1px 2px rgba(60, 64, 67, 0.3), 0px 1px 3px 1px rgba(60, 64, 67, 0.15);\n",
              "      fill: #174EA6;\n",
              "    }\n",
              "\n",
              "    [theme=dark] .colab-df-convert {\n",
              "      background-color: #3B4455;\n",
              "      fill: #D2E3FC;\n",
              "    }\n",
              "\n",
              "    [theme=dark] .colab-df-convert:hover {\n",
              "      background-color: #434B5C;\n",
              "      box-shadow: 0px 1px 3px 1px rgba(0, 0, 0, 0.15);\n",
              "      filter: drop-shadow(0px 1px 2px rgba(0, 0, 0, 0.3));\n",
              "      fill: #FFFFFF;\n",
              "    }\n",
              "  </style>\n",
              "\n",
              "      <script>\n",
              "        const buttonEl =\n",
              "          document.querySelector('#df-7e1ed735-ecf1-4e09-881d-427ad15ef05c button.colab-df-convert');\n",
              "        buttonEl.style.display =\n",
              "          google.colab.kernel.accessAllowed ? 'block' : 'none';\n",
              "\n",
              "        async function convertToInteractive(key) {\n",
              "          const element = document.querySelector('#df-7e1ed735-ecf1-4e09-881d-427ad15ef05c');\n",
              "          const dataTable =\n",
              "            await google.colab.kernel.invokeFunction('convertToInteractive',\n",
              "                                                     [key], {});\n",
              "          if (!dataTable) return;\n",
              "\n",
              "          const docLinkHtml = 'Like what you see? Visit the ' +\n",
              "            '<a target=\"_blank\" href=https://colab.research.google.com/notebooks/data_table.ipynb>data table notebook</a>'\n",
              "            + ' to learn more about interactive tables.';\n",
              "          element.innerHTML = '';\n",
              "          dataTable['output_type'] = 'display_data';\n",
              "          await google.colab.output.renderOutput(dataTable, element);\n",
              "          const docLink = document.createElement('div');\n",
              "          docLink.innerHTML = docLinkHtml;\n",
              "          element.appendChild(docLink);\n",
              "        }\n",
              "      </script>\n",
              "    </div>\n",
              "  </div>\n",
              "  "
            ]
          },
          "metadata": {},
          "execution_count": 37
        }
      ],
      "source": [
        "#Reading TEST DATA\n",
        "test_data = pd.read_csv('test_jobathon.csv')\n",
        "print('Data Shape:', test_data.shape)\n",
        "test_data.head()"
      ],
      "id": "f493f9c6"
    },
    {
      "cell_type": "markdown",
      "metadata": {
        "id": "ebd1b521"
      },
      "source": [
        "### **Data Description**\n",
        "\n",
        "- In this section we will get **information about the data** and see some observations."
      ],
      "id": "ebd1b521"
    },
    {
      "cell_type": "code",
      "execution_count": null,
      "metadata": {
        "colab": {
          "base_uri": "https://localhost:8080/",
          "height": 364
        },
        "id": "e5cb51a9",
        "outputId": "1ed61b39-b941-4a5d-af28-cf3a8bc23740"
      },
      "outputs": [
        {
          "output_type": "execute_result",
          "data": {
            "text/plain": [
              "                 id  campaign_var_1  campaign_var_2  products_purchased  \\\n",
              "count  39161.000000    39161.000000    39161.000000        18250.000000   \n",
              "mean   19581.000000        6.523812        6.452746            2.154137   \n",
              "std    11304.951283        3.472944        2.614296            0.779815   \n",
              "min        1.000000        1.000000        1.000000            1.000000   \n",
              "25%     9791.000000        4.000000        5.000000            2.000000   \n",
              "50%    19581.000000        6.000000        6.000000            2.000000   \n",
              "75%    29371.000000        9.000000        8.000000            3.000000   \n",
              "max    39161.000000       16.000000       15.000000            4.000000   \n",
              "\n",
              "       user_activity_var_1  user_activity_var_2  user_activity_var_3  \\\n",
              "count         39161.000000         39161.000000         39161.000000   \n",
              "mean              0.400092             0.006716             0.102832   \n",
              "std               0.509194             0.081676             0.303743   \n",
              "min               0.000000             0.000000             0.000000   \n",
              "25%               0.000000             0.000000             0.000000   \n",
              "50%               0.000000             0.000000             0.000000   \n",
              "75%               1.000000             0.000000             0.000000   \n",
              "max               3.000000             1.000000             1.000000   \n",
              "\n",
              "       user_activity_var_4  user_activity_var_5  user_activity_var_6  \\\n",
              "count         39161.000000         39161.000000         39161.000000   \n",
              "mean              0.011465             0.151503             0.499834   \n",
              "std               0.106463             0.359681             0.558166   \n",
              "min               0.000000             0.000000             0.000000   \n",
              "25%               0.000000             0.000000             0.000000   \n",
              "50%               0.000000             0.000000             0.000000   \n",
              "75%               0.000000             0.000000             1.000000   \n",
              "max               1.000000             2.000000             3.000000   \n",
              "\n",
              "       user_activity_var_7  user_activity_var_8  user_activity_var_9  \\\n",
              "count         39161.000000         39161.000000         39161.000000   \n",
              "mean              0.286612             0.174434             0.011440   \n",
              "std               0.455784             0.379689             0.106346   \n",
              "min               0.000000             0.000000             0.000000   \n",
              "25%               0.000000             0.000000             0.000000   \n",
              "50%               0.000000             0.000000             0.000000   \n",
              "75%               1.000000             0.000000             0.000000   \n",
              "max               2.000000             2.000000             1.000000   \n",
              "\n",
              "       user_activity_var_10  user_activity_var_11  user_activity_var_12  \\\n",
              "count          39161.000000          39161.000000          39161.000000   \n",
              "mean               0.000383              0.218942              0.000562   \n",
              "std                0.019568              0.431544              0.023696   \n",
              "min                0.000000              0.000000              0.000000   \n",
              "25%                0.000000              0.000000              0.000000   \n",
              "50%                0.000000              0.000000              0.000000   \n",
              "75%                0.000000              0.000000              0.000000   \n",
              "max                1.000000              4.000000              1.000000   \n",
              "\n",
              "                buy  \n",
              "count  39161.000000  \n",
              "mean       0.051020  \n",
              "std        0.220042  \n",
              "min        0.000000  \n",
              "25%        0.000000  \n",
              "50%        0.000000  \n",
              "75%        0.000000  \n",
              "max        1.000000  "
            ],
            "text/html": [
              "\n",
              "  <div id=\"df-fa0c0f38-514b-4109-9f48-f937adb15699\">\n",
              "    <div class=\"colab-df-container\">\n",
              "      <div>\n",
              "<style scoped>\n",
              "    .dataframe tbody tr th:only-of-type {\n",
              "        vertical-align: middle;\n",
              "    }\n",
              "\n",
              "    .dataframe tbody tr th {\n",
              "        vertical-align: top;\n",
              "    }\n",
              "\n",
              "    .dataframe thead th {\n",
              "        text-align: right;\n",
              "    }\n",
              "</style>\n",
              "<table border=\"1\" class=\"dataframe\">\n",
              "  <thead>\n",
              "    <tr style=\"text-align: right;\">\n",
              "      <th></th>\n",
              "      <th>id</th>\n",
              "      <th>campaign_var_1</th>\n",
              "      <th>campaign_var_2</th>\n",
              "      <th>products_purchased</th>\n",
              "      <th>user_activity_var_1</th>\n",
              "      <th>user_activity_var_2</th>\n",
              "      <th>user_activity_var_3</th>\n",
              "      <th>user_activity_var_4</th>\n",
              "      <th>user_activity_var_5</th>\n",
              "      <th>user_activity_var_6</th>\n",
              "      <th>user_activity_var_7</th>\n",
              "      <th>user_activity_var_8</th>\n",
              "      <th>user_activity_var_9</th>\n",
              "      <th>user_activity_var_10</th>\n",
              "      <th>user_activity_var_11</th>\n",
              "      <th>user_activity_var_12</th>\n",
              "      <th>buy</th>\n",
              "    </tr>\n",
              "  </thead>\n",
              "  <tbody>\n",
              "    <tr>\n",
              "      <th>count</th>\n",
              "      <td>39161.000000</td>\n",
              "      <td>39161.000000</td>\n",
              "      <td>39161.000000</td>\n",
              "      <td>18250.000000</td>\n",
              "      <td>39161.000000</td>\n",
              "      <td>39161.000000</td>\n",
              "      <td>39161.000000</td>\n",
              "      <td>39161.000000</td>\n",
              "      <td>39161.000000</td>\n",
              "      <td>39161.000000</td>\n",
              "      <td>39161.000000</td>\n",
              "      <td>39161.000000</td>\n",
              "      <td>39161.000000</td>\n",
              "      <td>39161.000000</td>\n",
              "      <td>39161.000000</td>\n",
              "      <td>39161.000000</td>\n",
              "      <td>39161.000000</td>\n",
              "    </tr>\n",
              "    <tr>\n",
              "      <th>mean</th>\n",
              "      <td>19581.000000</td>\n",
              "      <td>6.523812</td>\n",
              "      <td>6.452746</td>\n",
              "      <td>2.154137</td>\n",
              "      <td>0.400092</td>\n",
              "      <td>0.006716</td>\n",
              "      <td>0.102832</td>\n",
              "      <td>0.011465</td>\n",
              "      <td>0.151503</td>\n",
              "      <td>0.499834</td>\n",
              "      <td>0.286612</td>\n",
              "      <td>0.174434</td>\n",
              "      <td>0.011440</td>\n",
              "      <td>0.000383</td>\n",
              "      <td>0.218942</td>\n",
              "      <td>0.000562</td>\n",
              "      <td>0.051020</td>\n",
              "    </tr>\n",
              "    <tr>\n",
              "      <th>std</th>\n",
              "      <td>11304.951283</td>\n",
              "      <td>3.472944</td>\n",
              "      <td>2.614296</td>\n",
              "      <td>0.779815</td>\n",
              "      <td>0.509194</td>\n",
              "      <td>0.081676</td>\n",
              "      <td>0.303743</td>\n",
              "      <td>0.106463</td>\n",
              "      <td>0.359681</td>\n",
              "      <td>0.558166</td>\n",
              "      <td>0.455784</td>\n",
              "      <td>0.379689</td>\n",
              "      <td>0.106346</td>\n",
              "      <td>0.019568</td>\n",
              "      <td>0.431544</td>\n",
              "      <td>0.023696</td>\n",
              "      <td>0.220042</td>\n",
              "    </tr>\n",
              "    <tr>\n",
              "      <th>min</th>\n",
              "      <td>1.000000</td>\n",
              "      <td>1.000000</td>\n",
              "      <td>1.000000</td>\n",
              "      <td>1.000000</td>\n",
              "      <td>0.000000</td>\n",
              "      <td>0.000000</td>\n",
              "      <td>0.000000</td>\n",
              "      <td>0.000000</td>\n",
              "      <td>0.000000</td>\n",
              "      <td>0.000000</td>\n",
              "      <td>0.000000</td>\n",
              "      <td>0.000000</td>\n",
              "      <td>0.000000</td>\n",
              "      <td>0.000000</td>\n",
              "      <td>0.000000</td>\n",
              "      <td>0.000000</td>\n",
              "      <td>0.000000</td>\n",
              "    </tr>\n",
              "    <tr>\n",
              "      <th>25%</th>\n",
              "      <td>9791.000000</td>\n",
              "      <td>4.000000</td>\n",
              "      <td>5.000000</td>\n",
              "      <td>2.000000</td>\n",
              "      <td>0.000000</td>\n",
              "      <td>0.000000</td>\n",
              "      <td>0.000000</td>\n",
              "      <td>0.000000</td>\n",
              "      <td>0.000000</td>\n",
              "      <td>0.000000</td>\n",
              "      <td>0.000000</td>\n",
              "      <td>0.000000</td>\n",
              "      <td>0.000000</td>\n",
              "      <td>0.000000</td>\n",
              "      <td>0.000000</td>\n",
              "      <td>0.000000</td>\n",
              "      <td>0.000000</td>\n",
              "    </tr>\n",
              "    <tr>\n",
              "      <th>50%</th>\n",
              "      <td>19581.000000</td>\n",
              "      <td>6.000000</td>\n",
              "      <td>6.000000</td>\n",
              "      <td>2.000000</td>\n",
              "      <td>0.000000</td>\n",
              "      <td>0.000000</td>\n",
              "      <td>0.000000</td>\n",
              "      <td>0.000000</td>\n",
              "      <td>0.000000</td>\n",
              "      <td>0.000000</td>\n",
              "      <td>0.000000</td>\n",
              "      <td>0.000000</td>\n",
              "      <td>0.000000</td>\n",
              "      <td>0.000000</td>\n",
              "      <td>0.000000</td>\n",
              "      <td>0.000000</td>\n",
              "      <td>0.000000</td>\n",
              "    </tr>\n",
              "    <tr>\n",
              "      <th>75%</th>\n",
              "      <td>29371.000000</td>\n",
              "      <td>9.000000</td>\n",
              "      <td>8.000000</td>\n",
              "      <td>3.000000</td>\n",
              "      <td>1.000000</td>\n",
              "      <td>0.000000</td>\n",
              "      <td>0.000000</td>\n",
              "      <td>0.000000</td>\n",
              "      <td>0.000000</td>\n",
              "      <td>1.000000</td>\n",
              "      <td>1.000000</td>\n",
              "      <td>0.000000</td>\n",
              "      <td>0.000000</td>\n",
              "      <td>0.000000</td>\n",
              "      <td>0.000000</td>\n",
              "      <td>0.000000</td>\n",
              "      <td>0.000000</td>\n",
              "    </tr>\n",
              "    <tr>\n",
              "      <th>max</th>\n",
              "      <td>39161.000000</td>\n",
              "      <td>16.000000</td>\n",
              "      <td>15.000000</td>\n",
              "      <td>4.000000</td>\n",
              "      <td>3.000000</td>\n",
              "      <td>1.000000</td>\n",
              "      <td>1.000000</td>\n",
              "      <td>1.000000</td>\n",
              "      <td>2.000000</td>\n",
              "      <td>3.000000</td>\n",
              "      <td>2.000000</td>\n",
              "      <td>2.000000</td>\n",
              "      <td>1.000000</td>\n",
              "      <td>1.000000</td>\n",
              "      <td>4.000000</td>\n",
              "      <td>1.000000</td>\n",
              "      <td>1.000000</td>\n",
              "    </tr>\n",
              "  </tbody>\n",
              "</table>\n",
              "</div>\n",
              "      <button class=\"colab-df-convert\" onclick=\"convertToInteractive('df-fa0c0f38-514b-4109-9f48-f937adb15699')\"\n",
              "              title=\"Convert this dataframe to an interactive table.\"\n",
              "              style=\"display:none;\">\n",
              "        \n",
              "  <svg xmlns=\"http://www.w3.org/2000/svg\" height=\"24px\"viewBox=\"0 0 24 24\"\n",
              "       width=\"24px\">\n",
              "    <path d=\"M0 0h24v24H0V0z\" fill=\"none\"/>\n",
              "    <path d=\"M18.56 5.44l.94 2.06.94-2.06 2.06-.94-2.06-.94-.94-2.06-.94 2.06-2.06.94zm-11 1L8.5 8.5l.94-2.06 2.06-.94-2.06-.94L8.5 2.5l-.94 2.06-2.06.94zm10 10l.94 2.06.94-2.06 2.06-.94-2.06-.94-.94-2.06-.94 2.06-2.06.94z\"/><path d=\"M17.41 7.96l-1.37-1.37c-.4-.4-.92-.59-1.43-.59-.52 0-1.04.2-1.43.59L10.3 9.45l-7.72 7.72c-.78.78-.78 2.05 0 2.83L4 21.41c.39.39.9.59 1.41.59.51 0 1.02-.2 1.41-.59l7.78-7.78 2.81-2.81c.8-.78.8-2.07 0-2.86zM5.41 20L4 18.59l7.72-7.72 1.47 1.35L5.41 20z\"/>\n",
              "  </svg>\n",
              "      </button>\n",
              "      \n",
              "  <style>\n",
              "    .colab-df-container {\n",
              "      display:flex;\n",
              "      flex-wrap:wrap;\n",
              "      gap: 12px;\n",
              "    }\n",
              "\n",
              "    .colab-df-convert {\n",
              "      background-color: #E8F0FE;\n",
              "      border: none;\n",
              "      border-radius: 50%;\n",
              "      cursor: pointer;\n",
              "      display: none;\n",
              "      fill: #1967D2;\n",
              "      height: 32px;\n",
              "      padding: 0 0 0 0;\n",
              "      width: 32px;\n",
              "    }\n",
              "\n",
              "    .colab-df-convert:hover {\n",
              "      background-color: #E2EBFA;\n",
              "      box-shadow: 0px 1px 2px rgba(60, 64, 67, 0.3), 0px 1px 3px 1px rgba(60, 64, 67, 0.15);\n",
              "      fill: #174EA6;\n",
              "    }\n",
              "\n",
              "    [theme=dark] .colab-df-convert {\n",
              "      background-color: #3B4455;\n",
              "      fill: #D2E3FC;\n",
              "    }\n",
              "\n",
              "    [theme=dark] .colab-df-convert:hover {\n",
              "      background-color: #434B5C;\n",
              "      box-shadow: 0px 1px 3px 1px rgba(0, 0, 0, 0.15);\n",
              "      filter: drop-shadow(0px 1px 2px rgba(0, 0, 0, 0.3));\n",
              "      fill: #FFFFFF;\n",
              "    }\n",
              "  </style>\n",
              "\n",
              "      <script>\n",
              "        const buttonEl =\n",
              "          document.querySelector('#df-fa0c0f38-514b-4109-9f48-f937adb15699 button.colab-df-convert');\n",
              "        buttonEl.style.display =\n",
              "          google.colab.kernel.accessAllowed ? 'block' : 'none';\n",
              "\n",
              "        async function convertToInteractive(key) {\n",
              "          const element = document.querySelector('#df-fa0c0f38-514b-4109-9f48-f937adb15699');\n",
              "          const dataTable =\n",
              "            await google.colab.kernel.invokeFunction('convertToInteractive',\n",
              "                                                     [key], {});\n",
              "          if (!dataTable) return;\n",
              "\n",
              "          const docLinkHtml = 'Like what you see? Visit the ' +\n",
              "            '<a target=\"_blank\" href=https://colab.research.google.com/notebooks/data_table.ipynb>data table notebook</a>'\n",
              "            + ' to learn more about interactive tables.';\n",
              "          element.innerHTML = '';\n",
              "          dataTable['output_type'] = 'display_data';\n",
              "          await google.colab.output.renderOutput(dataTable, element);\n",
              "          const docLink = document.createElement('div');\n",
              "          docLink.innerHTML = docLinkHtml;\n",
              "          element.appendChild(docLink);\n",
              "        }\n",
              "      </script>\n",
              "    </div>\n",
              "  </div>\n",
              "  "
            ]
          },
          "metadata": {},
          "execution_count": 4
        }
      ],
      "source": [
        "train_data.describe()"
      ],
      "id": "e5cb51a9"
    },
    {
      "cell_type": "code",
      "execution_count": null,
      "metadata": {
        "colab": {
          "base_uri": "https://localhost:8080/",
          "height": 364
        },
        "id": "ddbe7f4c",
        "outputId": "f93e7da8-6b7e-4a46-c8f3-85fe376aa33e"
      },
      "outputs": [
        {
          "output_type": "execute_result",
          "data": {
            "text/plain": [
              "                 id  campaign_var_1  campaign_var_2  products_purchased  \\\n",
              "count  13184.000000    13184.000000    13184.000000         5048.000000   \n",
              "mean   45753.500000        7.724439        7.943416            2.108954   \n",
              "std     3806.037309        3.599981        2.687832            0.783483   \n",
              "min    39162.000000        1.000000        1.000000            1.000000   \n",
              "25%    42457.750000        5.000000        6.000000            2.000000   \n",
              "50%    45753.500000        8.000000        8.000000            2.000000   \n",
              "75%    49049.250000       10.000000       10.000000            3.000000   \n",
              "max    52345.000000       16.000000       15.000000            4.000000   \n",
              "\n",
              "       user_activity_var_1  user_activity_var_2  user_activity_var_3  \\\n",
              "count         13184.000000         13184.000000         13184.000000   \n",
              "mean              0.386681             0.004248             0.103307   \n",
              "std               0.505653             0.065037             0.304371   \n",
              "min               0.000000             0.000000             0.000000   \n",
              "25%               0.000000             0.000000             0.000000   \n",
              "50%               0.000000             0.000000             0.000000   \n",
              "75%               1.000000             0.000000             0.000000   \n",
              "max               3.000000             1.000000             1.000000   \n",
              "\n",
              "       user_activity_var_4  user_activity_var_5  user_activity_var_6  \\\n",
              "count          13184.00000         13184.000000         13184.000000   \n",
              "mean               0.00713             0.153064             0.525485   \n",
              "std                0.08414             0.360695             0.565208   \n",
              "min                0.00000             0.000000             0.000000   \n",
              "25%                0.00000             0.000000             0.000000   \n",
              "50%                0.00000             0.000000             0.000000   \n",
              "75%                0.00000             0.000000             1.000000   \n",
              "max                1.00000             2.000000             3.000000   \n",
              "\n",
              "       user_activity_var_7  user_activity_var_8  user_activity_var_9  \\\n",
              "count         13184.000000         13184.000000         13184.000000   \n",
              "mean              0.304460             0.142673             0.008419   \n",
              "std               0.462989             0.349969             0.092200   \n",
              "min               0.000000             0.000000             0.000000   \n",
              "25%               0.000000             0.000000             0.000000   \n",
              "50%               0.000000             0.000000             0.000000   \n",
              "75%               1.000000             0.000000             0.000000   \n",
              "max               2.000000             2.000000             2.000000   \n",
              "\n",
              "       user_activity_var_10  user_activity_var_11  user_activity_var_12  \n",
              "count          13184.000000          13184.000000          13184.000000  \n",
              "mean               0.000228              0.253413              0.000228  \n",
              "std                0.015084              0.462698              0.015084  \n",
              "min                0.000000              0.000000              0.000000  \n",
              "25%                0.000000              0.000000              0.000000  \n",
              "50%                0.000000              0.000000              0.000000  \n",
              "75%                0.000000              0.000000              0.000000  \n",
              "max                1.000000              3.000000              1.000000  "
            ],
            "text/html": [
              "\n",
              "  <div id=\"df-d80711f8-b0df-4f11-9042-942e5390ccd3\">\n",
              "    <div class=\"colab-df-container\">\n",
              "      <div>\n",
              "<style scoped>\n",
              "    .dataframe tbody tr th:only-of-type {\n",
              "        vertical-align: middle;\n",
              "    }\n",
              "\n",
              "    .dataframe tbody tr th {\n",
              "        vertical-align: top;\n",
              "    }\n",
              "\n",
              "    .dataframe thead th {\n",
              "        text-align: right;\n",
              "    }\n",
              "</style>\n",
              "<table border=\"1\" class=\"dataframe\">\n",
              "  <thead>\n",
              "    <tr style=\"text-align: right;\">\n",
              "      <th></th>\n",
              "      <th>id</th>\n",
              "      <th>campaign_var_1</th>\n",
              "      <th>campaign_var_2</th>\n",
              "      <th>products_purchased</th>\n",
              "      <th>user_activity_var_1</th>\n",
              "      <th>user_activity_var_2</th>\n",
              "      <th>user_activity_var_3</th>\n",
              "      <th>user_activity_var_4</th>\n",
              "      <th>user_activity_var_5</th>\n",
              "      <th>user_activity_var_6</th>\n",
              "      <th>user_activity_var_7</th>\n",
              "      <th>user_activity_var_8</th>\n",
              "      <th>user_activity_var_9</th>\n",
              "      <th>user_activity_var_10</th>\n",
              "      <th>user_activity_var_11</th>\n",
              "      <th>user_activity_var_12</th>\n",
              "    </tr>\n",
              "  </thead>\n",
              "  <tbody>\n",
              "    <tr>\n",
              "      <th>count</th>\n",
              "      <td>13184.000000</td>\n",
              "      <td>13184.000000</td>\n",
              "      <td>13184.000000</td>\n",
              "      <td>5048.000000</td>\n",
              "      <td>13184.000000</td>\n",
              "      <td>13184.000000</td>\n",
              "      <td>13184.000000</td>\n",
              "      <td>13184.00000</td>\n",
              "      <td>13184.000000</td>\n",
              "      <td>13184.000000</td>\n",
              "      <td>13184.000000</td>\n",
              "      <td>13184.000000</td>\n",
              "      <td>13184.000000</td>\n",
              "      <td>13184.000000</td>\n",
              "      <td>13184.000000</td>\n",
              "      <td>13184.000000</td>\n",
              "    </tr>\n",
              "    <tr>\n",
              "      <th>mean</th>\n",
              "      <td>45753.500000</td>\n",
              "      <td>7.724439</td>\n",
              "      <td>7.943416</td>\n",
              "      <td>2.108954</td>\n",
              "      <td>0.386681</td>\n",
              "      <td>0.004248</td>\n",
              "      <td>0.103307</td>\n",
              "      <td>0.00713</td>\n",
              "      <td>0.153064</td>\n",
              "      <td>0.525485</td>\n",
              "      <td>0.304460</td>\n",
              "      <td>0.142673</td>\n",
              "      <td>0.008419</td>\n",
              "      <td>0.000228</td>\n",
              "      <td>0.253413</td>\n",
              "      <td>0.000228</td>\n",
              "    </tr>\n",
              "    <tr>\n",
              "      <th>std</th>\n",
              "      <td>3806.037309</td>\n",
              "      <td>3.599981</td>\n",
              "      <td>2.687832</td>\n",
              "      <td>0.783483</td>\n",
              "      <td>0.505653</td>\n",
              "      <td>0.065037</td>\n",
              "      <td>0.304371</td>\n",
              "      <td>0.08414</td>\n",
              "      <td>0.360695</td>\n",
              "      <td>0.565208</td>\n",
              "      <td>0.462989</td>\n",
              "      <td>0.349969</td>\n",
              "      <td>0.092200</td>\n",
              "      <td>0.015084</td>\n",
              "      <td>0.462698</td>\n",
              "      <td>0.015084</td>\n",
              "    </tr>\n",
              "    <tr>\n",
              "      <th>min</th>\n",
              "      <td>39162.000000</td>\n",
              "      <td>1.000000</td>\n",
              "      <td>1.000000</td>\n",
              "      <td>1.000000</td>\n",
              "      <td>0.000000</td>\n",
              "      <td>0.000000</td>\n",
              "      <td>0.000000</td>\n",
              "      <td>0.00000</td>\n",
              "      <td>0.000000</td>\n",
              "      <td>0.000000</td>\n",
              "      <td>0.000000</td>\n",
              "      <td>0.000000</td>\n",
              "      <td>0.000000</td>\n",
              "      <td>0.000000</td>\n",
              "      <td>0.000000</td>\n",
              "      <td>0.000000</td>\n",
              "    </tr>\n",
              "    <tr>\n",
              "      <th>25%</th>\n",
              "      <td>42457.750000</td>\n",
              "      <td>5.000000</td>\n",
              "      <td>6.000000</td>\n",
              "      <td>2.000000</td>\n",
              "      <td>0.000000</td>\n",
              "      <td>0.000000</td>\n",
              "      <td>0.000000</td>\n",
              "      <td>0.00000</td>\n",
              "      <td>0.000000</td>\n",
              "      <td>0.000000</td>\n",
              "      <td>0.000000</td>\n",
              "      <td>0.000000</td>\n",
              "      <td>0.000000</td>\n",
              "      <td>0.000000</td>\n",
              "      <td>0.000000</td>\n",
              "      <td>0.000000</td>\n",
              "    </tr>\n",
              "    <tr>\n",
              "      <th>50%</th>\n",
              "      <td>45753.500000</td>\n",
              "      <td>8.000000</td>\n",
              "      <td>8.000000</td>\n",
              "      <td>2.000000</td>\n",
              "      <td>0.000000</td>\n",
              "      <td>0.000000</td>\n",
              "      <td>0.000000</td>\n",
              "      <td>0.00000</td>\n",
              "      <td>0.000000</td>\n",
              "      <td>0.000000</td>\n",
              "      <td>0.000000</td>\n",
              "      <td>0.000000</td>\n",
              "      <td>0.000000</td>\n",
              "      <td>0.000000</td>\n",
              "      <td>0.000000</td>\n",
              "      <td>0.000000</td>\n",
              "    </tr>\n",
              "    <tr>\n",
              "      <th>75%</th>\n",
              "      <td>49049.250000</td>\n",
              "      <td>10.000000</td>\n",
              "      <td>10.000000</td>\n",
              "      <td>3.000000</td>\n",
              "      <td>1.000000</td>\n",
              "      <td>0.000000</td>\n",
              "      <td>0.000000</td>\n",
              "      <td>0.00000</td>\n",
              "      <td>0.000000</td>\n",
              "      <td>1.000000</td>\n",
              "      <td>1.000000</td>\n",
              "      <td>0.000000</td>\n",
              "      <td>0.000000</td>\n",
              "      <td>0.000000</td>\n",
              "      <td>0.000000</td>\n",
              "      <td>0.000000</td>\n",
              "    </tr>\n",
              "    <tr>\n",
              "      <th>max</th>\n",
              "      <td>52345.000000</td>\n",
              "      <td>16.000000</td>\n",
              "      <td>15.000000</td>\n",
              "      <td>4.000000</td>\n",
              "      <td>3.000000</td>\n",
              "      <td>1.000000</td>\n",
              "      <td>1.000000</td>\n",
              "      <td>1.00000</td>\n",
              "      <td>2.000000</td>\n",
              "      <td>3.000000</td>\n",
              "      <td>2.000000</td>\n",
              "      <td>2.000000</td>\n",
              "      <td>2.000000</td>\n",
              "      <td>1.000000</td>\n",
              "      <td>3.000000</td>\n",
              "      <td>1.000000</td>\n",
              "    </tr>\n",
              "  </tbody>\n",
              "</table>\n",
              "</div>\n",
              "      <button class=\"colab-df-convert\" onclick=\"convertToInteractive('df-d80711f8-b0df-4f11-9042-942e5390ccd3')\"\n",
              "              title=\"Convert this dataframe to an interactive table.\"\n",
              "              style=\"display:none;\">\n",
              "        \n",
              "  <svg xmlns=\"http://www.w3.org/2000/svg\" height=\"24px\"viewBox=\"0 0 24 24\"\n",
              "       width=\"24px\">\n",
              "    <path d=\"M0 0h24v24H0V0z\" fill=\"none\"/>\n",
              "    <path d=\"M18.56 5.44l.94 2.06.94-2.06 2.06-.94-2.06-.94-.94-2.06-.94 2.06-2.06.94zm-11 1L8.5 8.5l.94-2.06 2.06-.94-2.06-.94L8.5 2.5l-.94 2.06-2.06.94zm10 10l.94 2.06.94-2.06 2.06-.94-2.06-.94-.94-2.06-.94 2.06-2.06.94z\"/><path d=\"M17.41 7.96l-1.37-1.37c-.4-.4-.92-.59-1.43-.59-.52 0-1.04.2-1.43.59L10.3 9.45l-7.72 7.72c-.78.78-.78 2.05 0 2.83L4 21.41c.39.39.9.59 1.41.59.51 0 1.02-.2 1.41-.59l7.78-7.78 2.81-2.81c.8-.78.8-2.07 0-2.86zM5.41 20L4 18.59l7.72-7.72 1.47 1.35L5.41 20z\"/>\n",
              "  </svg>\n",
              "      </button>\n",
              "      \n",
              "  <style>\n",
              "    .colab-df-container {\n",
              "      display:flex;\n",
              "      flex-wrap:wrap;\n",
              "      gap: 12px;\n",
              "    }\n",
              "\n",
              "    .colab-df-convert {\n",
              "      background-color: #E8F0FE;\n",
              "      border: none;\n",
              "      border-radius: 50%;\n",
              "      cursor: pointer;\n",
              "      display: none;\n",
              "      fill: #1967D2;\n",
              "      height: 32px;\n",
              "      padding: 0 0 0 0;\n",
              "      width: 32px;\n",
              "    }\n",
              "\n",
              "    .colab-df-convert:hover {\n",
              "      background-color: #E2EBFA;\n",
              "      box-shadow: 0px 1px 2px rgba(60, 64, 67, 0.3), 0px 1px 3px 1px rgba(60, 64, 67, 0.15);\n",
              "      fill: #174EA6;\n",
              "    }\n",
              "\n",
              "    [theme=dark] .colab-df-convert {\n",
              "      background-color: #3B4455;\n",
              "      fill: #D2E3FC;\n",
              "    }\n",
              "\n",
              "    [theme=dark] .colab-df-convert:hover {\n",
              "      background-color: #434B5C;\n",
              "      box-shadow: 0px 1px 3px 1px rgba(0, 0, 0, 0.15);\n",
              "      filter: drop-shadow(0px 1px 2px rgba(0, 0, 0, 0.3));\n",
              "      fill: #FFFFFF;\n",
              "    }\n",
              "  </style>\n",
              "\n",
              "      <script>\n",
              "        const buttonEl =\n",
              "          document.querySelector('#df-d80711f8-b0df-4f11-9042-942e5390ccd3 button.colab-df-convert');\n",
              "        buttonEl.style.display =\n",
              "          google.colab.kernel.accessAllowed ? 'block' : 'none';\n",
              "\n",
              "        async function convertToInteractive(key) {\n",
              "          const element = document.querySelector('#df-d80711f8-b0df-4f11-9042-942e5390ccd3');\n",
              "          const dataTable =\n",
              "            await google.colab.kernel.invokeFunction('convertToInteractive',\n",
              "                                                     [key], {});\n",
              "          if (!dataTable) return;\n",
              "\n",
              "          const docLinkHtml = 'Like what you see? Visit the ' +\n",
              "            '<a target=\"_blank\" href=https://colab.research.google.com/notebooks/data_table.ipynb>data table notebook</a>'\n",
              "            + ' to learn more about interactive tables.';\n",
              "          element.innerHTML = '';\n",
              "          dataTable['output_type'] = 'display_data';\n",
              "          await google.colab.output.renderOutput(dataTable, element);\n",
              "          const docLink = document.createElement('div');\n",
              "          docLink.innerHTML = docLinkHtml;\n",
              "          element.appendChild(docLink);\n",
              "        }\n",
              "      </script>\n",
              "    </div>\n",
              "  </div>\n",
              "  "
            ]
          },
          "metadata": {},
          "execution_count": 5
        }
      ],
      "source": [
        "test_data.describe()"
      ],
      "id": "ddbe7f4c"
    },
    {
      "cell_type": "markdown",
      "metadata": {
        "id": "b0181a64"
      },
      "source": [
        "<a name = Section42></a>\n",
        "### **4.2 Data Information**\n",
        "\n",
        "- In this section we will see the **information about the types of features**."
      ],
      "id": "b0181a64"
    },
    {
      "cell_type": "code",
      "execution_count": null,
      "metadata": {
        "colab": {
          "base_uri": "https://localhost:8080/"
        },
        "id": "f9bf93bd",
        "outputId": "19d3e47f-73f5-4151-fbfb-9ae04e8f2a69"
      },
      "outputs": [
        {
          "output_type": "stream",
          "name": "stdout",
          "text": [
            "<class 'pandas.core.frame.DataFrame'>\n",
            "RangeIndex: 39161 entries, 0 to 39160\n",
            "Data columns (total 19 columns):\n",
            " #   Column                Non-Null Count  Dtype  \n",
            "---  ------                --------------  -----  \n",
            " 0   id                    39161 non-null  int64  \n",
            " 1   created_at            39161 non-null  object \n",
            " 2   campaign_var_1        39161 non-null  int64  \n",
            " 3   campaign_var_2        39161 non-null  int64  \n",
            " 4   products_purchased    18250 non-null  float64\n",
            " 5   signup_date           24048 non-null  object \n",
            " 6   user_activity_var_1   39161 non-null  int64  \n",
            " 7   user_activity_var_2   39161 non-null  int64  \n",
            " 8   user_activity_var_3   39161 non-null  int64  \n",
            " 9   user_activity_var_4   39161 non-null  int64  \n",
            " 10  user_activity_var_5   39161 non-null  int64  \n",
            " 11  user_activity_var_6   39161 non-null  int64  \n",
            " 12  user_activity_var_7   39161 non-null  int64  \n",
            " 13  user_activity_var_8   39161 non-null  int64  \n",
            " 14  user_activity_var_9   39161 non-null  int64  \n",
            " 15  user_activity_var_10  39161 non-null  int64  \n",
            " 16  user_activity_var_11  39161 non-null  int64  \n",
            " 17  user_activity_var_12  39161 non-null  int64  \n",
            " 18  buy                   39161 non-null  int64  \n",
            "dtypes: float64(1), int64(16), object(2)\n",
            "memory usage: 5.7+ MB\n"
          ]
        }
      ],
      "source": [
        "train_data.info()"
      ],
      "id": "f9bf93bd"
    },
    {
      "cell_type": "code",
      "execution_count": null,
      "metadata": {
        "colab": {
          "base_uri": "https://localhost:8080/"
        },
        "id": "TK5iewDifdgv",
        "outputId": "66bc0e38-e932-427a-f582-f4c1a34fac13"
      },
      "outputs": [
        {
          "output_type": "execute_result",
          "data": {
            "text/plain": [
              "id                          0\n",
              "created_at                  0\n",
              "campaign_var_1              0\n",
              "campaign_var_2              0\n",
              "products_purchased      20911\n",
              "signup_date             15113\n",
              "user_activity_var_1         0\n",
              "user_activity_var_2         0\n",
              "user_activity_var_3         0\n",
              "user_activity_var_4         0\n",
              "user_activity_var_5         0\n",
              "user_activity_var_6         0\n",
              "user_activity_var_7         0\n",
              "user_activity_var_8         0\n",
              "user_activity_var_9         0\n",
              "user_activity_var_10        0\n",
              "user_activity_var_11        0\n",
              "user_activity_var_12        0\n",
              "buy                         0\n",
              "dtype: int64"
            ]
          },
          "metadata": {},
          "execution_count": 7
        }
      ],
      "source": [
        "train_data.isnull().sum()"
      ],
      "id": "TK5iewDifdgv"
    },
    {
      "cell_type": "code",
      "execution_count": null,
      "metadata": {
        "colab": {
          "base_uri": "https://localhost:8080/"
        },
        "id": "ZAn9xZcEiR_B",
        "outputId": "e6bebee0-3e13-4f43-b863-7cd5d42e3801"
      },
      "outputs": [
        {
          "output_type": "stream",
          "name": "stdout",
          "text": [
            "mean 2.1541369863013697\n",
            "mode 0    2.0\n",
            "dtype: float64\n"
          ]
        }
      ],
      "source": [
        "print('mean',train_data['products_purchased'].mean())\n",
        "print('mode',train_data['products_purchased'].mode())\n"
      ],
      "id": "ZAn9xZcEiR_B"
    },
    {
      "cell_type": "markdown",
      "metadata": {
        "id": "31d53e73"
      },
      "source": [
        "**Observation:**\n",
        "\n",
        "- We can observer that there values **missing in product_purchased & signup_date columns**.\n",
        "\n",
        "- Addtionally, all **other features** seems to have ***correct data type/values***.\n",
        "\n",
        "**EDA Action 1** : *Delete products_purchased column*\n",
        "\n",
        "**'products_purchased'** is an important column but it has **more than 50% values missing**. There are chances a lead dropped after buying specific # of items. They may not be happy with a specific items. But with more than 50% of missing values **we can not derive much information.** *If we replace these missing values mean the results may be biased. Hence it is advisable to drop this column.*\n"
      ],
      "id": "31d53e73"
    },
    {
      "cell_type": "code",
      "execution_count": null,
      "metadata": {
        "colab": {
          "base_uri": "https://localhost:8080/"
        },
        "id": "VNEuPDaGlixc",
        "outputId": "b69cd668-ecff-4d8d-82ea-f109abe0c10e"
      },
      "outputs": [
        {
          "output_type": "stream",
          "name": "stdout",
          "text": [
            "DROPPED products_purchased from TRAIN & TEST DATA\n",
            "(10072, 15)\n",
            "(13184, 17)\n"
          ]
        }
      ],
      "source": [
        "# DROPPING products_purchased from TRAIN & TEST DATA\n",
        "train_data.drop(columns=['products_purchased'],inplace=True)\n",
        "test_data.drop(columns=['products_purchased'],inplace=True)\n",
        "print('DROPPED products_purchased from TRAIN & TEST DATA')\n",
        "print(train_data.shape)\n",
        "print(test_data.shape)"
      ],
      "id": "VNEuPDaGlixc"
    },
    {
      "cell_type": "markdown",
      "metadata": {
        "id": "uOhNX0C3q7Jf"
      },
      "source": [
        "\n",
        "**EDA Action 2 (analysis)** : *Add couln to find the # od days a Lead/customer stayed before dropping off*\n",
        "\n",
        "'**'signup_date'** column has **38% (approx.) values missing**. It seems very unlikey that a lead drop is related to sign_up date. But it will good to check if there is a relation between signup_date and created_at columns. \n",
        "\n",
        "\n",
        "*   For the rows, where we have data available in both created_at & signup_date, we will caluculate the number of days difference between these dates.\n",
        "*   Here, we will try to see if there is a Trial period involved. Mostly we have seen customers are given a trial period of a 1 week/2 weeks/1 month. And customers tend to drop right before Trail period end if ther are not happy. If no such relationship found then we will delete this column as well."
      ],
      "id": "uOhNX0C3q7Jf"
    },
    {
      "cell_type": "code",
      "execution_count": null,
      "metadata": {
        "colab": {
          "base_uri": "https://localhost:8080/"
        },
        "id": "XfTvGmSTsqrV",
        "outputId": "418bb593-28f2-4961-9d3f-5dee7865a1b4"
      },
      "outputs": [
        {
          "output_type": "stream",
          "name": "stdout",
          "text": [
            "Total qunique values :  1940\n"
          ]
        }
      ],
      "source": [
        "from datetime import datetime\n",
        "df_train = train_data.copy(deep=True)\n",
        "\n",
        "df_train[\"created_at\"] = pd.to_datetime(df_train[\"created_at\"],format='%Y-%m-%d') \n",
        "df_train[\"signup_date\"] = pd.to_datetime(df_train[\"signup_date\"],format='%Y-%m-%d') \n",
        "\n",
        "df_train['range'] = df_train[\"created_at\"] - df_train[\"signup_date\"]\n",
        "df_train.head(50)\n",
        "\n",
        "print('Total qunique values : ' ,df_train['range'].nunique())\n"
      ],
      "id": "XfTvGmSTsqrV"
    },
    {
      "cell_type": "markdown",
      "metadata": {
        "id": "WxSD0k9oKMPN"
      },
      "source": [
        "**EDA Decision Action 2 :**\n",
        "\n",
        "We have 1940 unique values which means there is no pattern in terms of duration. So we can drop the coulmn **'signup_date'**"
      ],
      "id": "WxSD0k9oKMPN"
    },
    {
      "cell_type": "code",
      "execution_count": null,
      "metadata": {
        "colab": {
          "base_uri": "https://localhost:8080/"
        },
        "id": "HZgLfVN_Ejcg",
        "outputId": "6d1e00f0-f1f0-4008-947e-a19b3a8e0d32"
      },
      "outputs": [
        {
          "output_type": "stream",
          "name": "stdout",
          "text": [
            "DROPPED signup_date from TRAIN & TEST DATA\n",
            "(10072, 15)\n",
            "(13184, 16)\n"
          ]
        }
      ],
      "source": [
        "# DROPPING products_purchased from TRAIN & TEST DATA\n",
        "train_data.drop(columns=['signup_date'],inplace=True)\n",
        "test_data.drop(columns=['signup_date'],inplace=True)\n",
        "print('DROPPED signup_date from TRAIN & TEST DATA')\n",
        "print(train_data.shape)\n",
        "print(test_data.shape)"
      ],
      "id": "HZgLfVN_Ejcg"
    },
    {
      "cell_type": "markdown",
      "metadata": {
        "id": "MMKhtDM0LGEw"
      },
      "source": [
        "**EDA Action 3 :** \n",
        "\n",
        "Drop 'created_at' column. The date on which a Lead dropped is less likely to be related to Lead's decision to discontinue "
      ],
      "id": "MMKhtDM0LGEw"
    },
    {
      "cell_type": "code",
      "execution_count": null,
      "metadata": {
        "colab": {
          "base_uri": "https://localhost:8080/"
        },
        "id": "SDMEaH9pLbub",
        "outputId": "d59c9be6-a01d-41e3-f8b2-03fa580fa054"
      },
      "outputs": [
        {
          "output_type": "stream",
          "name": "stdout",
          "text": [
            "DROPPED created_at from TRAIN & TEST DATA\n",
            "(10072, 15)\n",
            "(13184, 15)\n"
          ]
        }
      ],
      "source": [
        "## DROPPING products_purchased from TRAIN & TEST DATA\n",
        "train_data.drop(columns=['created_at'],inplace=True)\n",
        "test_data.drop(columns=['created_at'],inplace=True)\n",
        "print('DROPPED created_at from TRAIN & TEST DATA')\n",
        "print(train_data.shape)\n",
        "print(test_data.shape)"
      ],
      "id": "SDMEaH9pLbub"
    },
    {
      "cell_type": "markdown",
      "metadata": {
        "id": "ViF3Y9AAs1q9"
      },
      "source": [
        "**EDA Action 4 :** \n",
        "\n",
        "Drop 'id' column. id is not related to Lead's decision to discontinue. This is just an identifier."
      ],
      "id": "ViF3Y9AAs1q9"
    },
    {
      "cell_type": "code",
      "execution_count": null,
      "metadata": {
        "colab": {
          "base_uri": "https://localhost:8080/"
        },
        "id": "KOsC0S1FtDQd",
        "outputId": "324ef351-9a29-41c5-a3ad-5445380d380c"
      },
      "outputs": [
        {
          "output_type": "stream",
          "name": "stdout",
          "text": [
            "DROPPED id from TRAIN  DATA\n",
            "(10072, 15)\n",
            "(13184, 14)\n"
          ]
        }
      ],
      "source": [
        "# DROPPING products_purchased from TRAIN & TEST DATA\n",
        "train_data.drop(columns=['id'],inplace=True)\n",
        "test_data.drop(columns=['id'],inplace=True)\n",
        "print('DROPPED id from TRAIN  DATA')\n",
        "print(train_data.shape)\n",
        "print(test_data.shape)"
      ],
      "id": "KOsC0S1FtDQd"
    },
    {
      "cell_type": "markdown",
      "metadata": {
        "id": "984e9f3e"
      },
      "source": [
        "**EDA Action 4 :**\n",
        "\n",
        "\n",
        "Dropping Duplicates from Training Data (if any)"
      ],
      "id": "984e9f3e"
    },
    {
      "cell_type": "code",
      "execution_count": null,
      "metadata": {
        "colab": {
          "base_uri": "https://localhost:8080/"
        },
        "id": "0839f661",
        "outputId": "2f204b43-40c4-4129-97d2-7a10779eac45"
      },
      "outputs": [
        {
          "output_type": "stream",
          "name": "stdout",
          "text": [
            "Dropping Duplicates Success!\n",
            "(10072, 15)\n"
          ]
        }
      ],
      "source": [
        "train_data.drop_duplicates(inplace=True)\n",
        "print('Dropping Duplicates Success!')\n",
        "print(train_data.shape)"
      ],
      "id": "0839f661"
    },
    {
      "cell_type": "markdown",
      "metadata": {
        "id": "fZ_-AyDFn0A2"
      },
      "source": [
        "**Observation** - \n",
        "\n",
        "\n",
        "*   Train dataset rows reduced from 39161 to 10072, which means approx 2/3 of the data was duplicate after dropping id.\n",
        "\n",
        "\n"
      ],
      "id": "fZ_-AyDFn0A2"
    },
    {
      "cell_type": "markdown",
      "metadata": {
        "id": "8f407a23"
      },
      "source": [
        "**Numerical Data Distribution:**\n",
        "\n",
        "\n",
        " We shall plot all numerical features to analyze the distribution of their past.\n",
        "\n",
        "\n"
      ],
      "id": "8f407a23"
    },
    {
      "cell_type": "code",
      "execution_count": null,
      "metadata": {
        "colab": {
          "base_uri": "https://localhost:8080/"
        },
        "id": "hCDGSNkomwIR",
        "outputId": "795421c2-712b-4e38-dd1a-1c0447535bc1"
      },
      "outputs": [
        {
          "output_type": "execute_result",
          "data": {
            "text/plain": [
              "Index(['campaign_var_1', 'campaign_var_2', 'user_activity_var_1',\n",
              "       'user_activity_var_2', 'user_activity_var_3', 'user_activity_var_4',\n",
              "       'user_activity_var_5', 'user_activity_var_6', 'user_activity_var_7',\n",
              "       'user_activity_var_8', 'user_activity_var_9', 'user_activity_var_10',\n",
              "       'user_activity_var_11', 'user_activity_var_12', 'buy'],\n",
              "      dtype='object')"
            ]
          },
          "metadata": {},
          "execution_count": 16
        }
      ],
      "source": [
        "train_data.columns"
      ],
      "id": "hCDGSNkomwIR"
    },
    {
      "cell_type": "code",
      "execution_count": null,
      "metadata": {
        "colab": {
          "base_uri": "https://localhost:8080/",
          "height": 873
        },
        "id": "llSVrvMbeuuu",
        "outputId": "64463cd7-ee96-4329-938e-a711a34aff32"
      },
      "outputs": [
        {
          "output_type": "display_data",
          "data": {
            "text/plain": [
              "<Figure size 1080x864 with 16 Axes>"
            ],
            "image/png": "[encoded data removed]"
          },
          "metadata": {
            "needs_background": "light"
          }
        }
      ],
      "source": [
        "# Creating subplots\n",
        "fig, axes = plt.subplots(nrows = 4, ncols = 4, sharex = False, figsize=(15, 12))\n",
        "\n",
        "# Generating random colors based on number of columns\n",
        "colors = []\n",
        "for i in range(len(train_data.columns)):\n",
        "  colors.append('#%06X' % randint(0, 0xFFFFFF))   \n",
        "                \n",
        "for ax, col, color in zip(axes.flat, train_data.columns, colors):\n",
        "  sns.distplot(a = train_data[col], bins = 50, ax = ax, color = color)\n",
        "  ax.set_title(col)\n",
        "  plt.setp(axes, xlabel = '')\n",
        "  ax.grid(False)\n",
        "plt.tight_layout()\n",
        "plt.show()"
      ],
      "id": "llSVrvMbeuuu"
    },
    {
      "cell_type": "markdown",
      "metadata": {
        "id": "ac6whOdVnQAd"
      },
      "source": [
        "**Positively Skewed Data**\n",
        "* buy\n",
        "* user_activity_11\n",
        "* user_activity_12\n",
        "* user_activity_2\n",
        "* user_activity_10\n",
        "\n",
        "**Negatively Skewed Data**\n",
        "\n",
        "* None\n",
        "\n",
        "**Normally Distributed**\n",
        "\n",
        "* campaign_var_1\n",
        "* campaign_var_2"
      ],
      "id": "ac6whOdVnQAd"
    },
    {
      "cell_type": "markdown",
      "metadata": {
        "id": "vlXKVFCDnhAQ"
      },
      "source": [
        "**Identification & Handling of Redundant Features**\n",
        "\n",
        "For handling duplicate features we have created a custom function to identify duplicacy in features with different name but similar values:"
      ],
      "id": "vlXKVFCDnhAQ"
    },
    {
      "cell_type": "code",
      "execution_count": null,
      "metadata": {
        "id": "08b63b81"
      },
      "outputs": [],
      "source": [
        "def duplicate_cols(dataframe):\n",
        "  ls1 = []\n",
        "  ls2 = []\n",
        "\n",
        "  columns = dataframe.columns.values\n",
        "  for i in range(0, len(columns)):\n",
        "    for j in range(i+1, len(columns)):\n",
        "      if (np.where(dataframe[columns[i]] == dataframe[columns[j]], True, False).all() == True):\n",
        "        ls1.append(columns[i])\n",
        "        ls2.append(columns[j])\n",
        "\n",
        "  if ((len(ls1) == 0) & (len(ls2) == 0)):\n",
        "    return None\n",
        "  else:\n",
        "    duplicate_frame = pd.DataFrame()\n",
        "    duplicate_frame['Feature 1'] = ls1\n",
        "    duplicate_frame['Feature 2'] = ls2\n",
        "    return duplicate_frame"
      ],
      "id": "08b63b81"
    },
    {
      "cell_type": "code",
      "execution_count": null,
      "metadata": {
        "colab": {
          "base_uri": "https://localhost:8080/"
        },
        "id": "cc33e724",
        "outputId": "95e666b6-e9d2-491c-d3d8-ed65df023ede"
      },
      "outputs": [
        {
          "output_type": "stream",
          "name": "stdout",
          "text": [
            "None\n"
          ]
        }
      ],
      "source": [
        "print(duplicate_cols(train_data))"
      ],
      "id": "cc33e724"
    },
    {
      "cell_type": "markdown",
      "metadata": {
        "id": "mxoTk731opv-"
      },
      "source": [
        "**Observation:**\n",
        "\n",
        "It turns out that there aren't any duplicate columns in features."
      ],
      "id": "mxoTk731opv-"
    },
    {
      "cell_type": "markdown",
      "metadata": {
        "id": "9191016e"
      },
      "source": [
        "**Feature Selection using Random Forest**\n",
        "\n",
        "* Now in real world, it is very rare that all the features are important while developing the model.\n",
        "* So instead we analyze the impact of input over the target, either done by performing statistical tests(Pearson, ANOVA, Chi-Square) or by using Random Forest.\n",
        "* Random forests are one the most popular machine learning algorithms because they provide:\n",
        "\n",
        "\n",
        "         1.   a good predictive performance,\n",
        "         2.   low overfitting and\n",
        "         3.   easy interpretability.\n",
        "\n",
        "*  This interpretability is derived from the importance of each feature on the tree decision evaluated on the reduction in impurity.\n",
        "\n",
        "In other words, it is easy to compute how much each feature is contributing to the decision.\n",
        "\n",
        "Below we have implemented a function namely, SelectFromModel available in Sklearn which uses the base estimator to identify important features.\n",
        "The importance of feature is determined on the basis of threshold (a measure to calculate feature importance)."
      ],
      "id": "9191016e"
    },
    {
      "cell_type": "code",
      "execution_count": null,
      "metadata": {
        "colab": {
          "base_uri": "https://localhost:8080/"
        },
        "id": "e60a574e",
        "outputId": "8451c9eb-de61-46a8-da27-a5eda7942991"
      },
      "outputs": [
        {
          "output_type": "stream",
          "name": "stdout",
          "text": [
            "(10072, 14)\n",
            "(10072,)\n"
          ]
        }
      ],
      "source": [
        "X = train_data.drop('buy', axis = 1)\n",
        "y = train_data['buy']\n",
        "\n",
        "print(X.shape)\n",
        "print(y.shape)"
      ],
      "id": "e60a574e"
    },
    {
      "cell_type": "code",
      "execution_count": null,
      "metadata": {
        "colab": {
          "base_uri": "https://localhost:8080/"
        },
        "id": "b9cec5cf",
        "outputId": "41f518a6-a3e1-4db8-b37e-354bf673a953"
      },
      "outputs": [
        {
          "output_type": "stream",
          "name": "stdout",
          "text": [
            "Total Features Selected are 6\n",
            "Threshold set by Model: 0.07\n",
            "Features: ['campaign_var_1', 'campaign_var_2', 'user_activity_var_2', 'user_activity_var_4', 'user_activity_var_9', 'user_activity_var_11']\n"
          ]
        }
      ],
      "source": [
        "# Have some patience, may take some time :)\n",
        "selector = SelectFromModel(RandomForestClassifier(n_estimators = 100, random_state = 42, n_jobs = -1))\n",
        "selector.fit(X, y)\n",
        "\n",
        "# Extracting list of important features\n",
        "selected_feat = X.columns[(selector.get_support())].tolist()\n",
        "\n",
        "print('Total Features Selected are', len(selected_feat))\n",
        "\n",
        "# Estimated by taking mean(default) of feature importance\n",
        "print('Threshold set by Model:', np.round(selector.threshold_, decimals = 2))\n",
        "print('Features:', selected_feat)"
      ],
      "id": "b9cec5cf"
    },
    {
      "cell_type": "markdown",
      "metadata": {
        "id": "181ade4b"
      },
      "source": [
        "**Visualzation of Important Features:**\n",
        "\n",
        "- Below features are plotted against their relative importance (in %age),  of each feature."
      ],
      "id": "181ade4b"
    },
    {
      "cell_type": "code",
      "execution_count": null,
      "metadata": {
        "colab": {
          "base_uri": "https://localhost:8080/",
          "height": 519
        },
        "id": "15f4c0ec",
        "outputId": "a6ba6068-a024-496b-fc01-ba381c30210a"
      },
      "outputs": [
        {
          "output_type": "display_data",
          "data": {
            "text/plain": [
              "<Figure size 1080x576 with 1 Axes>"
            ],
            "image/png": "[encoded data removed]"
          },
          "metadata": {
            "needs_background": "light"
          }
        }
      ],
      "source": [
        "# Have some patience, may take some time :)\n",
        "figure = plt.figure(figsize = [15, 8])\n",
        "\n",
        "# If you don't want relative importance, use relative = False in below method\n",
        "viz = FeatureImportances(selector.estimator, relative = False)\n",
        "viz.fit(X, y)\n",
        "\n",
        "plt.xlabel('Relative Importance', size = 14)\n",
        "plt.ylabel('Features', size = 14)\n",
        "plt.title(label = 'Feature Importances', size = 16)\n",
        "plt.show()"
      ],
      "id": "15f4c0ec"
    },
    {
      "cell_type": "markdown",
      "metadata": {
        "id": "ikOMo0xWCmNT"
      },
      "source": [
        ""
      ],
      "id": "ikOMo0xWCmNT"
    },
    {
      "cell_type": "code",
      "execution_count": null,
      "metadata": {
        "colab": {
          "base_uri": "https://localhost:8080/"
        },
        "id": "jlyF70SdCmqC",
        "outputId": "52c4229d-3cdb-470a-ef37-ed3e6f786b0d"
      },
      "outputs": [
        {
          "output_type": "stream",
          "name": "stdout",
          "text": [
            "Training Data Shape: (8057, 14) (8057,)\n",
            "Testing Data Shape: (2015, 14) (2015,)\n"
          ]
        }
      ],
      "source": [
        "X_train, X_test, y_train, y_test = train_test_split(X, y, test_size = 0.2, random_state = 42, stratify = y)\n",
        "\n",
        "print('Training Data Shape:', X_train.shape, y_train.shape)\n",
        "print('Testing Data Shape:', X_test.shape, y_test.shape)"
      ],
      "id": "jlyF70SdCmqC"
    },
    {
      "cell_type": "markdown",
      "metadata": {
        "id": "0c908246"
      },
      "source": [
        "**Model Development & Evaluation**\n",
        "---\n",
        "\n",
        "- In this section we will **develop differnt models using only importatnt feature** as marked important by Random Forest.\n",
        "- Then we will **compare the results** obtained from them and make our observation.\n",
        "- For **evaluation purpose** we will plot **precision and recall** for **each** **estimator** for which have **made** a **custom function below**.\n",
        "- **Remember** that **we want generalize results** i.e. same results or error in testing data as that of training data.\n",
        "- **At the end** we will **tune** our **models if required**."
      ],
      "id": "0c908246"
    },
    {
      "cell_type": "markdown",
      "metadata": {
        "id": "489ed0ef"
      },
      "source": [
        "**Logistic Regression**"
      ],
      "id": "489ed0ef"
    },
    {
      "cell_type": "code",
      "execution_count": null,
      "metadata": {
        "colab": {
          "base_uri": "https://localhost:8080/"
        },
        "id": "fe8fc2b1",
        "outputId": "0c41d752-0f8e-4991-d8fa-42bd1aa66871"
      },
      "outputs": [
        {
          "output_type": "stream",
          "name": "stdout",
          "text": [
            "                    Training Report          \n",
            "              precision    recall  f1-score   support\n",
            "\n",
            "           0       0.91      0.99      0.95      6648\n",
            "           1       0.93      0.55      0.69      1409\n",
            "\n",
            "    accuracy                           0.91      8057\n",
            "   macro avg       0.92      0.77      0.82      8057\n",
            "weighted avg       0.91      0.91      0.90      8057\n",
            "\n",
            "                    Testing Report           \n",
            "              precision    recall  f1-score   support\n",
            "\n",
            "           0       0.92      0.99      0.95      1663\n",
            "           1       0.93      0.59      0.72       352\n",
            "\n",
            "    accuracy                           0.92      2015\n",
            "   macro avg       0.92      0.79      0.84      2015\n",
            "weighted avg       0.92      0.92      0.91      2015\n",
            "\n"
          ]
        }
      ],
      "source": [
        "log  = LogisticRegression(random_state = 42)\n",
        "log.fit(X_train, y_train)\n",
        "\n",
        "y_train_pred_count = log.predict(X_train)\n",
        "y_test_pred_count = log.predict(X_test)\n",
        "\n",
        "y_train_pred_proba = log.predict_proba(X_train)\n",
        "y_test_pred_proba = log.predict_proba(X_test)\n",
        "logistic_report_train = classification_report(y_train, y_train_pred_count)\n",
        "logistic_report_test = classification_report(y_test, y_test_pred_count)\n",
        "print('                    Training Report          ')\n",
        "print(logistic_report_train)\n",
        "print('                    Testing Report           ')\n",
        "print(logistic_report_test)"
      ],
      "id": "fe8fc2b1"
    },
    {
      "cell_type": "markdown",
      "metadata": {
        "id": "koRoHgqyM9id"
      },
      "source": [
        "**Observation:**\n",
        "\n",
        "- **Accuracy** for **training data is low** as **compared to testing data**.\n",
        "- **Similar is the case with Precision and recall** for training data and testing data.\n",
        "- **Model is overfitting**"
      ],
      "id": "koRoHgqyM9id"
    },
    {
      "cell_type": "markdown",
      "metadata": {
        "id": "LDdi7udeNLNF"
      },
      "source": [
        "**Model Evaluation using Support Vector Classifier**"
      ],
      "id": "LDdi7udeNLNF"
    },
    {
      "cell_type": "code",
      "execution_count": null,
      "metadata": {
        "colab": {
          "base_uri": "https://localhost:8080/"
        },
        "id": "Mo_WUVvtNJ1N",
        "outputId": "f175abba-0bf5-4d9d-ca5f-a36ac06122ab"
      },
      "outputs": [
        {
          "output_type": "stream",
          "name": "stdout",
          "text": [
            "                    Training Report          \n",
            "              precision    recall  f1-score   support\n",
            "\n",
            "           0       0.90      0.99      0.94      6648\n",
            "           1       0.94      0.48      0.64      1409\n",
            "\n",
            "    accuracy                           0.90      8057\n",
            "   macro avg       0.92      0.74      0.79      8057\n",
            "weighted avg       0.91      0.90      0.89      8057\n",
            "\n",
            "                    Testing Report           \n",
            "              precision    recall  f1-score   support\n",
            "\n",
            "           0       0.91      0.99      0.95      1663\n",
            "           1       0.92      0.52      0.66       352\n",
            "\n",
            "    accuracy                           0.91      2015\n",
            "   macro avg       0.91      0.76      0.81      2015\n",
            "weighted avg       0.91      0.91      0.90      2015\n",
            "\n"
          ]
        }
      ],
      "source": [
        "svc_clf = SVC(random_state = 42, probability = True)\n",
        "svc_clf.fit(X_train, y_train)\n",
        "\n",
        "y_train_pred_count = svc_clf.predict(X_train)\n",
        "y_test_pred_count = svc_clf.predict(X_test)\n",
        "\n",
        "y_train_pred_proba = svc_clf.predict_proba(X_train)\n",
        "y_test_pred_proba = svc_clf.predict_proba(X_test)\n",
        "\n",
        "svc_report_train = classification_report(y_train, y_train_pred_count)\n",
        "svc_report_test = classification_report(y_test, y_test_pred_count)\n",
        "print('                    Training Report          ')\n",
        "print(svc_report_train)\n",
        "print('                    Testing Report           ')\n",
        "print(svc_report_test)"
      ],
      "id": "Mo_WUVvtNJ1N"
    },
    {
      "cell_type": "markdown",
      "metadata": {
        "id": "ylT2DxyANnIi"
      },
      "source": [
        "**SVM Model Observation:**\n",
        "\n",
        "- **Accuracy** for **training data is low** as **compared to testing data**.\n",
        "- **Similar is the case with Precision and recall** for training data and testing data.\n",
        "- **Model is overfitting**"
      ],
      "id": "ylT2DxyANnIi"
    },
    {
      "cell_type": "markdown",
      "metadata": {
        "id": "Nl7c07q3Nx1W"
      },
      "source": [
        "**Decision Tree MODEL**"
      ],
      "id": "Nl7c07q3Nx1W"
    },
    {
      "cell_type": "code",
      "execution_count": null,
      "metadata": {
        "colab": {
          "base_uri": "https://localhost:8080/"
        },
        "id": "wfWDRolONtN5",
        "outputId": "f813392f-63ed-4222-a153-4d796c933f6a"
      },
      "outputs": [
        {
          "output_type": "stream",
          "name": "stdout",
          "text": [
            "                    Training Report          \n",
            "              precision    recall  f1-score   support\n",
            "\n",
            "           0       0.95      1.00      0.97      6648\n",
            "           1       1.00      0.73      0.84      1409\n",
            "\n",
            "    accuracy                           0.95      8057\n",
            "   macro avg       0.97      0.86      0.91      8057\n",
            "weighted avg       0.96      0.95      0.95      8057\n",
            "\n",
            "                    Testing Report           \n",
            "              precision    recall  f1-score   support\n",
            "\n",
            "           0       0.92      0.90      0.91      1663\n",
            "           1       0.56      0.61      0.59       352\n",
            "\n",
            "    accuracy                           0.85      2015\n",
            "   macro avg       0.74      0.76      0.75      2015\n",
            "weighted avg       0.85      0.85      0.85      2015\n",
            "\n"
          ]
        }
      ],
      "source": [
        "dtc = DecisionTreeClassifier(random_state = 42)\n",
        "dtc.fit(X_train, y_train)\n",
        "\n",
        "y_train_pred_count = dtc.predict(X_train)\n",
        "y_test_pred_count = dtc.predict(X_test)\n",
        "\n",
        "y_train_pred_proba = dtc.predict_proba(X_train)\n",
        "y_test_pred_proba = dtc.predict_proba(X_test)\n",
        "\n",
        "dtc_report_train = classification_report(y_train, y_train_pred_count)\n",
        "dtc_report_test = classification_report(y_test, y_test_pred_count)\n",
        "print('                    Training Report          ')\n",
        "print(dtc_report_train)\n",
        "print('                    Testing Report           ')\n",
        "print(dtc_report_test)"
      ],
      "id": "wfWDRolONtN5"
    },
    {
      "cell_type": "markdown",
      "metadata": {
        "id": "3ma1zgReN-7e"
      },
      "source": [
        "**DECISION TREE MODEL EVALUATION**\n",
        "\n",
        "\n",
        "*   Performing good on Train dataset\n",
        "*   But seems **Underfitting** on test data set (f1-score)\n",
        "\n"
      ],
      "id": "3ma1zgReN-7e"
    },
    {
      "cell_type": "markdown",
      "metadata": {
        "id": "RcvoujcuOOZV"
      },
      "source": [
        "**Random Forest Model**"
      ],
      "id": "RcvoujcuOOZV"
    },
    {
      "cell_type": "code",
      "execution_count": null,
      "metadata": {
        "colab": {
          "base_uri": "https://localhost:8080/"
        },
        "id": "1PJ4dUOLOVdO",
        "outputId": "3c357060-ef4f-456d-ff7c-a65b3550bf1d"
      },
      "outputs": [
        {
          "output_type": "stream",
          "name": "stdout",
          "text": [
            "                    Training Report          \n",
            "              precision    recall  f1-score   support\n",
            "\n",
            "           0       0.96      0.99      0.97      6648\n",
            "           1       0.93      0.79      0.85      1409\n",
            "\n",
            "    accuracy                           0.95      8057\n",
            "   macro avg       0.94      0.89      0.91      8057\n",
            "weighted avg       0.95      0.95      0.95      8057\n",
            "\n",
            "                    Testing Report           \n",
            "              precision    recall  f1-score   support\n",
            "\n",
            "           0       0.92      0.92      0.92      1663\n",
            "           1       0.62      0.61      0.61       352\n",
            "\n",
            "    accuracy                           0.87      2015\n",
            "   macro avg       0.77      0.76      0.77      2015\n",
            "weighted avg       0.87      0.87      0.87      2015\n",
            "\n"
          ]
        }
      ],
      "source": [
        "rfc = RandomForestClassifier(random_state = 42)\n",
        "rfc.fit(X_train, y_train)\n",
        "\n",
        "y_train_pred_count = rfc.predict(X_train)\n",
        "y_test_pred_count = rfc.predict(X_test)\n",
        "\n",
        "y_train_pred_proba = rfc.predict_proba(X_train)\n",
        "y_test_pred_proba = rfc.predict_proba(X_test)\n",
        "rfc_report_train = classification_report(y_train, y_train_pred_count)\n",
        "rfc_report_test = classification_report(y_test, y_test_pred_count)\n",
        "print('                    Training Report          ')\n",
        "print(rfc_report_train)\n",
        "print('                    Testing Report           ')\n",
        "print(rfc_report_test)"
      ],
      "id": "1PJ4dUOLOVdO"
    },
    {
      "cell_type": "markdown",
      "metadata": {
        "id": "UjexVdztOjrc"
      },
      "source": [
        "**Random Forest  MODEL EVALUATION**\n",
        "\n",
        "\n",
        "*   Performing good on Train dataset\n",
        "*   But seems **Underfitting** on test data set (f1-score)\n",
        "\n",
        "**Hence Let's do some optimization on Random Forest & check if we get a better model**"
      ],
      "id": "UjexVdztOjrc"
    },
    {
      "cell_type": "code",
      "execution_count": null,
      "metadata": {
        "id": "wcfTnfj7Oiyk"
      },
      "outputs": [],
      "source": [
        "parameter_grid = [{'n_estimators' : [100, 200, 300, 400, 500], 'criterion':['gini', 'entropy'], 'max_depth' : [x for x in range(2, 10)], 'bootstrap' : [True, False]}]"
      ],
      "id": "wcfTnfj7Oiyk"
    },
    {
      "cell_type": "code",
      "execution_count": null,
      "metadata": {
        "colab": {
          "base_uri": "https://localhost:8080/"
        },
        "id": "XlnblEhyOz4D",
        "outputId": "757050ee-706d-4145-f9ef-31c015800b76"
      },
      "outputs": [
        {
          "output_type": "execute_result",
          "data": {
            "text/plain": [
              "RandomForestClassifier(bootstrap=False, max_depth=5, n_jobs=-1, random_state=42)"
            ]
          },
          "metadata": {},
          "execution_count": 31
        }
      ],
      "source": [
        "# Have some patience, may take some time :)\n",
        "rand_forest = RandomForestClassifier(random_state = 42, n_jobs = -1)\n",
        "random_search = GridSearchCV(estimator = rand_forest, param_grid = parameter_grid, scoring = 'f1', n_jobs = -1, cv = 10, return_train_score = True)\n",
        "random_search.fit(X_train, y_train)\n",
        "random_search.best_estimator_"
      ],
      "id": "XlnblEhyOz4D"
    },
    {
      "cell_type": "code",
      "execution_count": null,
      "metadata": {
        "id": "KZURSsaTO4eP",
        "colab": {
          "base_uri": "https://localhost:8080/"
        },
        "outputId": "d6668d06-99c6-43b3-9e17-5da0801defde"
      },
      "outputs": [
        {
          "output_type": "execute_result",
          "data": {
            "text/plain": [
              "{'bootstrap': False, 'criterion': 'gini', 'max_depth': 5, 'n_estimators': 100}"
            ]
          },
          "metadata": {},
          "execution_count": 32
        }
      ],
      "source": [
        "random_search.best_params_"
      ],
      "id": "KZURSsaTO4eP"
    },
    {
      "cell_type": "markdown",
      "metadata": {
        "id": "A9P7PFv6O-LH"
      },
      "source": [
        "**Fine-tuned Model - Random Forest**\n"
      ],
      "id": "A9P7PFv6O-LH"
    },
    {
      "cell_type": "code",
      "execution_count": null,
      "metadata": {
        "id": "PIVUBsy6O9MB"
      },
      "outputs": [],
      "source": [
        "rfc = random_search.best_estimator_\n",
        "rfc.fit(X_train, y_train)\n",
        "\n",
        "y_train_pred_count = rfc.predict(X_train)\n",
        "y_test_pred_count = rfc.predict(X_test)\n",
        "\n",
        "y_train_pred_proba = rfc.predict_proba(X_train)\n",
        "y_test_pred_proba = rfc.predict_proba(X_test)\n"
      ],
      "id": "PIVUBsy6O9MB"
    },
    {
      "cell_type": "code",
      "execution_count": null,
      "metadata": {
        "id": "gS7J1HkKPKqW",
        "colab": {
          "base_uri": "https://localhost:8080/"
        },
        "outputId": "2a652e3d-43a0-4509-fdbc-ac198566ffb4"
      },
      "outputs": [
        {
          "output_type": "stream",
          "name": "stdout",
          "text": [
            "                    Training Report          \n",
            "              precision    recall  f1-score   support\n",
            "\n",
            "           0       0.91      0.99      0.95      6648\n",
            "           1       0.95      0.56      0.71      1409\n",
            "\n",
            "    accuracy                           0.92      8057\n",
            "   macro avg       0.93      0.78      0.83      8057\n",
            "weighted avg       0.92      0.92      0.91      8057\n",
            "\n",
            "                    Testing Report           \n",
            "              precision    recall  f1-score   support\n",
            "\n",
            "           0       0.92      0.99      0.95      1663\n",
            "           1       0.94      0.58      0.72       352\n",
            "\n",
            "    accuracy                           0.92      2015\n",
            "   macro avg       0.93      0.79      0.84      2015\n",
            "weighted avg       0.92      0.92      0.91      2015\n",
            "\n"
          ]
        }
      ],
      "source": [
        "rfc_report_train = classification_report(y_train, y_train_pred_count)\n",
        "rfc_report_test = classification_report(y_test, y_test_pred_count)\n",
        "print('                    Training Report          ')\n",
        "print(rfc_report_train)\n",
        "print('                    Testing Report           ')\n",
        "print(rfc_report_test)"
      ],
      "id": "gS7J1HkKPKqW"
    },
    {
      "cell_type": "markdown",
      "source": [
        "**Observation:**\n",
        "\n",
        "- We can see that from that before fine-tuning, **Random Forest without optimization was underfitting** over the **test data** at 67%.\n",
        "- But **now** the **generalization error** is very **close to the training error**. \n",
        "- This definitely seems to be a better model."
      ],
      "metadata": {
        "id": "fohyNaJt_eKu"
      },
      "id": "fohyNaJt_eKu"
    },
    {
      "cell_type": "markdown",
      "source": [
        "**Classification using XGboost**\n",
        "\n",
        "This is one algortithm which is always worth trying because of Boosting logic. So, Let's check the model -\n"
      ],
      "metadata": {
        "id": "MCiTArhSNjn7"
      },
      "id": "MCiTArhSNjn7"
    },
    {
      "cell_type": "code",
      "source": [
        "xgb = XGBClassifier()\n",
        "xgb.fit(X_train, y_train)"
      ],
      "metadata": {
        "colab": {
          "base_uri": "https://localhost:8080/"
        },
        "id": "AlS-wNugN6xB",
        "outputId": "624e163f-1ce2-43fb-fe40-f847e13089e1"
      },
      "id": "AlS-wNugN6xB",
      "execution_count": null,
      "outputs": [
        {
          "output_type": "execute_result",
          "data": {
            "text/plain": [
              "XGBClassifier(base_score=0.5, booster='gbtree', callbacks=None,\n",
              "              colsample_bylevel=1, colsample_bynode=1, colsample_bytree=1,\n",
              "              early_stopping_rounds=None, enable_categorical=False,\n",
              "              eval_metric=None, gamma=0, gpu_id=-1, grow_policy='depthwise',\n",
              "              importance_type=None, interaction_constraints='',\n",
              "              learning_rate=0.300000012, max_bin=256, max_cat_to_onehot=4,\n",
              "              max_delta_step=0, max_depth=6, max_leaves=0, min_child_weight=1,\n",
              "              missing=nan, monotone_constraints='()', n_estimators=100,\n",
              "              n_jobs=0, num_parallel_tree=1, predictor='auto', random_state=0,\n",
              "              reg_alpha=0, reg_lambda=1, ...)"
            ]
          },
          "metadata": {},
          "execution_count": 66
        }
      ]
    },
    {
      "cell_type": "code",
      "source": [
        "y_train_pred_count = xgb.predict(X_train)\n",
        "y_test_pred_count = xgb.predict(X_test)\n",
        "\n",
        "y_train_pred_proba = xgb.predict_proba(X_train)\n",
        "y_test_pred_proba = xgb.predict_proba(X_test)\n",
        "xgb_report_train = classification_report(y_train, y_train_pred_count)\n",
        "xgb_report_test = classification_report(y_test, y_test_pred_count)\n",
        "print('                    Training Report          ')\n",
        "print(xgb_report_train)\n",
        "print('                    Testing Report           ')\n",
        "print(xgb_report_test)"
      ],
      "metadata": {
        "colab": {
          "base_uri": "https://localhost:8080/"
        },
        "id": "cr6w3M8eO15Y",
        "outputId": "c16f6963-14c3-4584-d54c-e8140922dde7"
      },
      "id": "cr6w3M8eO15Y",
      "execution_count": null,
      "outputs": [
        {
          "output_type": "stream",
          "name": "stdout",
          "text": [
            "                    Training Report          \n",
            "              precision    recall  f1-score   support\n",
            "\n",
            "           0       0.92      1.00      0.96      6648\n",
            "           1       0.97      0.61      0.75      1409\n",
            "\n",
            "    accuracy                           0.93      8057\n",
            "   macro avg       0.95      0.80      0.85      8057\n",
            "weighted avg       0.93      0.93      0.92      8057\n",
            "\n",
            "                    Testing Report           \n",
            "              precision    recall  f1-score   support\n",
            "\n",
            "           0       0.92      0.99      0.95      1663\n",
            "           1       0.91      0.61      0.73       352\n",
            "\n",
            "    accuracy                           0.92      2015\n",
            "   macro avg       0.91      0.80      0.84      2015\n",
            "weighted avg       0.92      0.92      0.91      2015\n",
            "\n"
          ]
        }
      ]
    },
    {
      "cell_type": "markdown",
      "source": [
        "**Observation:**\n",
        "\n",
        "- We got slightly better performance with XGBoost.\n",
        "- Let's make **final Submission using Random Forest with Random Forest model**.\n",
        "\n",
        "**Creating Submission File**"
      ],
      "metadata": {
        "id": "GB9w_4anPXcO"
      },
      "id": "GB9w_4anPXcO"
    },
    {
      "cell_type": "code",
      "source": [
        "Submission_Data = pd.read_csv('test_jobathon.csv')\n",
        "print('Data Shape:', Submission_Data.shape)\n",
        "Submission_Data.head()"
      ],
      "metadata": {
        "colab": {
          "base_uri": "https://localhost:8080/",
          "height": 288
        },
        "id": "_U2wFeR5Dpyb",
        "outputId": "d5ffaffe-fe89-4869-a77a-bd11e6f0c2a4"
      },
      "id": "_U2wFeR5Dpyb",
      "execution_count": null,
      "outputs": [
        {
          "output_type": "stream",
          "name": "stdout",
          "text": [
            "Data Shape: (13184, 18)\n"
          ]
        },
        {
          "output_type": "execute_result",
          "data": {
            "text/plain": [
              "      id  created_at  campaign_var_1  campaign_var_2  products_purchased  \\\n",
              "0  39162  2022-01-01               2               2                 NaN   \n",
              "1  39163  2022-01-01               4               7                 3.0   \n",
              "2  39164  2022-01-01               8               7                 NaN   \n",
              "3  39165  2022-01-01               9               8                 2.0   \n",
              "4  39166  2022-01-01               4               5                 2.0   \n",
              "\n",
              "  signup_date  user_activity_var_1  user_activity_var_2  user_activity_var_3  \\\n",
              "0  2021-08-17                    1                    1                    0   \n",
              "1  2020-05-21                    1                    0                    0   \n",
              "2         NaN                    0                    0                    0   \n",
              "3  2020-06-22                    0                    0                    0   \n",
              "4  2021-03-10                    1                    0                    0   \n",
              "\n",
              "   user_activity_var_4  user_activity_var_5  user_activity_var_6  \\\n",
              "0                    0                    0                    1   \n",
              "1                    0                    0                    0   \n",
              "2                    0                    1                    1   \n",
              "3                    0                    1                    1   \n",
              "4                    0                    0                    0   \n",
              "\n",
              "   user_activity_var_7  user_activity_var_8  user_activity_var_9  \\\n",
              "0                    0                    0                    0   \n",
              "1                    0                    1                    0   \n",
              "2                    0                    0                    0   \n",
              "3                    1                    0                    0   \n",
              "4                    0                    0                    0   \n",
              "\n",
              "   user_activity_var_10  user_activity_var_11  user_activity_var_12  \n",
              "0                     0                     1                     0  \n",
              "1                     0                     0                     0  \n",
              "2                     0                     0                     0  \n",
              "3                     0                     2                     0  \n",
              "4                     0                     0                     0  "
            ],
            "text/html": [
              "\n",
              "  <div id=\"df-cc3a4fc6-26f5-4947-bb52-9a4284460e86\">\n",
              "    <div class=\"colab-df-container\">\n",
              "      <div>\n",
              "<style scoped>\n",
              "    .dataframe tbody tr th:only-of-type {\n",
              "        vertical-align: middle;\n",
              "    }\n",
              "\n",
              "    .dataframe tbody tr th {\n",
              "        vertical-align: top;\n",
              "    }\n",
              "\n",
              "    .dataframe thead th {\n",
              "        text-align: right;\n",
              "    }\n",
              "</style>\n",
              "<table border=\"1\" class=\"dataframe\">\n",
              "  <thead>\n",
              "    <tr style=\"text-align: right;\">\n",
              "      <th></th>\n",
              "      <th>id</th>\n",
              "      <th>created_at</th>\n",
              "      <th>campaign_var_1</th>\n",
              "      <th>campaign_var_2</th>\n",
              "      <th>products_purchased</th>\n",
              "      <th>signup_date</th>\n",
              "      <th>user_activity_var_1</th>\n",
              "      <th>user_activity_var_2</th>\n",
              "      <th>user_activity_var_3</th>\n",
              "      <th>user_activity_var_4</th>\n",
              "      <th>user_activity_var_5</th>\n",
              "      <th>user_activity_var_6</th>\n",
              "      <th>user_activity_var_7</th>\n",
              "      <th>user_activity_var_8</th>\n",
              "      <th>user_activity_var_9</th>\n",
              "      <th>user_activity_var_10</th>\n",
              "      <th>user_activity_var_11</th>\n",
              "      <th>user_activity_var_12</th>\n",
              "    </tr>\n",
              "  </thead>\n",
              "  <tbody>\n",
              "    <tr>\n",
              "      <th>0</th>\n",
              "      <td>39162</td>\n",
              "      <td>2022-01-01</td>\n",
              "      <td>2</td>\n",
              "      <td>2</td>\n",
              "      <td>NaN</td>\n",
              "      <td>2021-08-17</td>\n",
              "      <td>1</td>\n",
              "      <td>1</td>\n",
              "      <td>0</td>\n",
              "      <td>0</td>\n",
              "      <td>0</td>\n",
              "      <td>1</td>\n",
              "      <td>0</td>\n",
              "      <td>0</td>\n",
              "      <td>0</td>\n",
              "      <td>0</td>\n",
              "      <td>1</td>\n",
              "      <td>0</td>\n",
              "    </tr>\n",
              "    <tr>\n",
              "      <th>1</th>\n",
              "      <td>39163</td>\n",
              "      <td>2022-01-01</td>\n",
              "      <td>4</td>\n",
              "      <td>7</td>\n",
              "      <td>3.0</td>\n",
              "      <td>2020-05-21</td>\n",
              "      <td>1</td>\n",
              "      <td>0</td>\n",
              "      <td>0</td>\n",
              "      <td>0</td>\n",
              "      <td>0</td>\n",
              "      <td>0</td>\n",
              "      <td>0</td>\n",
              "      <td>1</td>\n",
              "      <td>0</td>\n",
              "      <td>0</td>\n",
              "      <td>0</td>\n",
              "      <td>0</td>\n",
              "    </tr>\n",
              "    <tr>\n",
              "      <th>2</th>\n",
              "      <td>39164</td>\n",
              "      <td>2022-01-01</td>\n",
              "      <td>8</td>\n",
              "      <td>7</td>\n",
              "      <td>NaN</td>\n",
              "      <td>NaN</td>\n",
              "      <td>0</td>\n",
              "      <td>0</td>\n",
              "      <td>0</td>\n",
              "      <td>0</td>\n",
              "      <td>1</td>\n",
              "      <td>1</td>\n",
              "      <td>0</td>\n",
              "      <td>0</td>\n",
              "      <td>0</td>\n",
              "      <td>0</td>\n",
              "      <td>0</td>\n",
              "      <td>0</td>\n",
              "    </tr>\n",
              "    <tr>\n",
              "      <th>3</th>\n",
              "      <td>39165</td>\n",
              "      <td>2022-01-01</td>\n",
              "      <td>9</td>\n",
              "      <td>8</td>\n",
              "      <td>2.0</td>\n",
              "      <td>2020-06-22</td>\n",
              "      <td>0</td>\n",
              "      <td>0</td>\n",
              "      <td>0</td>\n",
              "      <td>0</td>\n",
              "      <td>1</td>\n",
              "      <td>1</td>\n",
              "      <td>1</td>\n",
              "      <td>0</td>\n",
              "      <td>0</td>\n",
              "      <td>0</td>\n",
              "      <td>2</td>\n",
              "      <td>0</td>\n",
              "    </tr>\n",
              "    <tr>\n",
              "      <th>4</th>\n",
              "      <td>39166</td>\n",
              "      <td>2022-01-01</td>\n",
              "      <td>4</td>\n",
              "      <td>5</td>\n",
              "      <td>2.0</td>\n",
              "      <td>2021-03-10</td>\n",
              "      <td>1</td>\n",
              "      <td>0</td>\n",
              "      <td>0</td>\n",
              "      <td>0</td>\n",
              "      <td>0</td>\n",
              "      <td>0</td>\n",
              "      <td>0</td>\n",
              "      <td>0</td>\n",
              "      <td>0</td>\n",
              "      <td>0</td>\n",
              "      <td>0</td>\n",
              "      <td>0</td>\n",
              "    </tr>\n",
              "  </tbody>\n",
              "</table>\n",
              "</div>\n",
              "      <button class=\"colab-df-convert\" onclick=\"convertToInteractive('df-cc3a4fc6-26f5-4947-bb52-9a4284460e86')\"\n",
              "              title=\"Convert this dataframe to an interactive table.\"\n",
              "              style=\"display:none;\">\n",
              "        \n",
              "  <svg xmlns=\"http://www.w3.org/2000/svg\" height=\"24px\"viewBox=\"0 0 24 24\"\n",
              "       width=\"24px\">\n",
              "    <path d=\"M0 0h24v24H0V0z\" fill=\"none\"/>\n",
              "    <path d=\"M18.56 5.44l.94 2.06.94-2.06 2.06-.94-2.06-.94-.94-2.06-.94 2.06-2.06.94zm-11 1L8.5 8.5l.94-2.06 2.06-.94-2.06-.94L8.5 2.5l-.94 2.06-2.06.94zm10 10l.94 2.06.94-2.06 2.06-.94-2.06-.94-.94-2.06-.94 2.06-2.06.94z\"/><path d=\"M17.41 7.96l-1.37-1.37c-.4-.4-.92-.59-1.43-.59-.52 0-1.04.2-1.43.59L10.3 9.45l-7.72 7.72c-.78.78-.78 2.05 0 2.83L4 21.41c.39.39.9.59 1.41.59.51 0 1.02-.2 1.41-.59l7.78-7.78 2.81-2.81c.8-.78.8-2.07 0-2.86zM5.41 20L4 18.59l7.72-7.72 1.47 1.35L5.41 20z\"/>\n",
              "  </svg>\n",
              "      </button>\n",
              "      \n",
              "  <style>\n",
              "    .colab-df-container {\n",
              "      display:flex;\n",
              "      flex-wrap:wrap;\n",
              "      gap: 12px;\n",
              "    }\n",
              "\n",
              "    .colab-df-convert {\n",
              "      background-color: #E8F0FE;\n",
              "      border: none;\n",
              "      border-radius: 50%;\n",
              "      cursor: pointer;\n",
              "      display: none;\n",
              "      fill: #1967D2;\n",
              "      height: 32px;\n",
              "      padding: 0 0 0 0;\n",
              "      width: 32px;\n",
              "    }\n",
              "\n",
              "    .colab-df-convert:hover {\n",
              "      background-color: #E2EBFA;\n",
              "      box-shadow: 0px 1px 2px rgba(60, 64, 67, 0.3), 0px 1px 3px 1px rgba(60, 64, 67, 0.15);\n",
              "      fill: #174EA6;\n",
              "    }\n",
              "\n",
              "    [theme=dark] .colab-df-convert {\n",
              "      background-color: #3B4455;\n",
              "      fill: #D2E3FC;\n",
              "    }\n",
              "\n",
              "    [theme=dark] .colab-df-convert:hover {\n",
              "      background-color: #434B5C;\n",
              "      box-shadow: 0px 1px 3px 1px rgba(0, 0, 0, 0.15);\n",
              "      filter: drop-shadow(0px 1px 2px rgba(0, 0, 0, 0.3));\n",
              "      fill: #FFFFFF;\n",
              "    }\n",
              "  </style>\n",
              "\n",
              "      <script>\n",
              "        const buttonEl =\n",
              "          document.querySelector('#df-cc3a4fc6-26f5-4947-bb52-9a4284460e86 button.colab-df-convert');\n",
              "        buttonEl.style.display =\n",
              "          google.colab.kernel.accessAllowed ? 'block' : 'none';\n",
              "\n",
              "        async function convertToInteractive(key) {\n",
              "          const element = document.querySelector('#df-cc3a4fc6-26f5-4947-bb52-9a4284460e86');\n",
              "          const dataTable =\n",
              "            await google.colab.kernel.invokeFunction('convertToInteractive',\n",
              "                                                     [key], {});\n",
              "          if (!dataTable) return;\n",
              "\n",
              "          const docLinkHtml = 'Like what you see? Visit the ' +\n",
              "            '<a target=\"_blank\" href=https://colab.research.google.com/notebooks/data_table.ipynb>data table notebook</a>'\n",
              "            + ' to learn more about interactive tables.';\n",
              "          element.innerHTML = '';\n",
              "          dataTable['output_type'] = 'display_data';\n",
              "          await google.colab.output.renderOutput(dataTable, element);\n",
              "          const docLink = document.createElement('div');\n",
              "          docLink.innerHTML = docLinkHtml;\n",
              "          element.appendChild(docLink);\n",
              "        }\n",
              "      </script>\n",
              "    </div>\n",
              "  </div>\n",
              "  "
            ]
          },
          "metadata": {},
          "execution_count": 69
        }
      ]
    },
    {
      "cell_type": "code",
      "source": [
        "y_test_submit = rfc.predict(test_data)"
      ],
      "metadata": {
        "id": "mHxRG7ydD2Iv"
      },
      "id": "mHxRG7ydD2Iv",
      "execution_count": null,
      "outputs": []
    },
    {
      "cell_type": "code",
      "source": [
        "print(y_test_submit)"
      ],
      "metadata": {
        "colab": {
          "base_uri": "https://localhost:8080/"
        },
        "id": "VQ8HY1xjGEh2",
        "outputId": "30f7c361-20de-4580-ff05-ed659e5cfb49"
      },
      "id": "VQ8HY1xjGEh2",
      "execution_count": null,
      "outputs": [
        {
          "output_type": "stream",
          "name": "stdout",
          "text": [
            "[1 0 0 ... 0 0 0]\n"
          ]
        }
      ]
    },
    {
      "cell_type": "code",
      "source": [
        "Submission_Data['buy'] = y_test_submit"
      ],
      "metadata": {
        "id": "EPaR6N2rGYId"
      },
      "id": "EPaR6N2rGYId",
      "execution_count": null,
      "outputs": []
    },
    {
      "cell_type": "code",
      "source": [
        "submission_df = pd.DataFrame()\n",
        "submission_df['id'] = Submission_Data['id']\n",
        "submission_df['buy'] = Submission_Data['buy']"
      ],
      "metadata": {
        "id": "7BortDelLoGX"
      },
      "id": "7BortDelLoGX",
      "execution_count": null,
      "outputs": []
    },
    {
      "cell_type": "code",
      "execution_count": null,
      "metadata": {
        "id": "c7c06014"
      },
      "outputs": [],
      "source": [
        "submission_df.to_csv('submission.csv',index=False)"
      ],
      "id": "c7c06014"
    },
    {
      "cell_type": "markdown",
      "metadata": {
        "id": "a129ef7a"
      },
      "source": [
        "# Summary\n",
        "\n",
        "* **I have renamed the test file to \"test_jobathon.csv\" & train file to \"train_jobathon.csv\"**\n",
        "* We checked at TRAIN & TEST DATA for data types, missing values & duplicate rows.\n",
        "* We dropped, **products_purchased** feature from TEST & TRAIN dataset as it had more than 50% of the values missing\n",
        "* We dropped, **signup_date** feature from TEST & TRAIN dataset as it seemed unrelated to target variable 'buy'\n",
        "* We dropped, **created_at** feature from TEST & TRAIN dataset as it seemed unrelated to target variable 'buy'\n",
        "* We dropped, **id** feature from TEST DATA as this is just a unique identifier\n",
        "* **Developed and compared different models (for f1-score) like Logistic Regression, Support Vector Classifer, Decision Tree, Random Forest (both with & without fine tuning ) & XgBoost**\n",
        "* **As per f1-score evaluation XGBoost slightly performed better as compared to Fine-tuned Random Forest model**\n",
        "* Created a new dataframe Submission_df using ids from Test Data set & Buy values from predicted values (predicted by Model-> y_predict)\n",
        "* Wrote Submissing dataframe values to a csv file.\n",
        "* The final submission file is generated using **Random Forest Search Model**. \n"
      ],
      "id": "a129ef7a"
    }
  ],
  "metadata": {
    "accelerator": "GPU",
    "colab": {
      "collapsed_sections": [],
      "name": "Jobathon_RFC_check.ipynb",
      "provenance": [],
      "include_colab_link": true
    },
    "kernelspec": {
      "display_name": "Python 3",
      "language": "python",
      "name": "python3"
    },
    "language_info": {
      "codemirror_mode": {
        "name": "ipython",
        "version": 3
      },
      "file_extension": ".py",
      "mimetype": "text/x-python",
      "name": "python",
      "nbconvert_exporter": "python",
      "pygments_lexer": "ipython3",
      "version": "3.7.12"
    },
    "papermill": {
      "default_parameters": {},
      "duration": 51.047336,
      "end_time": "2022-05-28T20:36:05.557001",
      "environment_variables": {},
      "exception": null,
      "input_path": "__notebook__.ipynb",
      "output_path": "__notebook__.ipynb",
      "parameters": {},
      "start_time": "2022-05-28T20:35:14.509665",
      "version": "2.3.4"
    }
  },
  "nbformat": 4,
  "nbformat_minor": 5
}